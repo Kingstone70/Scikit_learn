{
 "cells": [
  {
   "cell_type": "markdown",
   "id": "20a133f4",
   "metadata": {},
   "source": [
    "## 1. Importing Libraries and Reading the Dataset"
   ]
  },
  {
   "cell_type": "code",
   "execution_count": 58,
   "id": "35eee105",
   "metadata": {},
   "outputs": [
    {
     "name": "stderr",
     "output_type": "stream",
     "text": [
      "C:\\Users\\hp\\AppData\\Local\\Temp\\ipykernel_14024\\3301342641.py:11: DeprecationWarning: Importing display from IPython.core.display is deprecated since IPython 7.14, please import from IPython display\n",
      "  from IPython.core.display import display, HTML\n"
     ]
    }
   ],
   "source": [
    "import numpy as np\n",
    "import pandas as pd\n",
    "import matplotlib.pyplot as plt\n",
    "import seaborn as sns\n",
    "from sklearn.linear_model import LinearRegression\n",
    "from sklearn.model_selection import train_test_split\n",
    "from sklearn.tree import DecisionTreeRegressor\n",
    "from sklearn.metrics import mean_squared_error\n",
    "from sklearn.model_selection import cross_val_score\n",
    "from collections import Counter\n",
    "from IPython.core.display import display, HTML\n",
    "sns.set_style('darkgrid')"
   ]
  },
  {
   "cell_type": "code",
   "execution_count": 59,
   "id": "f4b2d4b9",
   "metadata": {},
   "outputs": [],
   "source": [
    "# Load the dataset into a pandas DataFrame\n",
    "dataset = pd.read_csv('ToyotaCorolla.csv')"
   ]
  },
  {
   "cell_type": "code",
   "execution_count": 60,
   "id": "3edce52b",
   "metadata": {},
   "outputs": [
    {
     "data": {
      "text/html": [
       "<div>\n",
       "<style scoped>\n",
       "    .dataframe tbody tr th:only-of-type {\n",
       "        vertical-align: middle;\n",
       "    }\n",
       "\n",
       "    .dataframe tbody tr th {\n",
       "        vertical-align: top;\n",
       "    }\n",
       "\n",
       "    .dataframe thead th {\n",
       "        text-align: right;\n",
       "    }\n",
       "</style>\n",
       "<table border=\"1\" class=\"dataframe\">\n",
       "  <thead>\n",
       "    <tr style=\"text-align: right;\">\n",
       "      <th></th>\n",
       "      <th>Price</th>\n",
       "      <th>Age</th>\n",
       "      <th>KM</th>\n",
       "      <th>FuelType</th>\n",
       "      <th>HP</th>\n",
       "      <th>MetColor</th>\n",
       "      <th>Automatic</th>\n",
       "      <th>CC</th>\n",
       "      <th>Doors</th>\n",
       "      <th>Weight</th>\n",
       "    </tr>\n",
       "  </thead>\n",
       "  <tbody>\n",
       "    <tr>\n",
       "      <th>1119</th>\n",
       "      <td>7450</td>\n",
       "      <td>74</td>\n",
       "      <td>112307</td>\n",
       "      <td>Petrol</td>\n",
       "      <td>110</td>\n",
       "      <td>1</td>\n",
       "      <td>0</td>\n",
       "      <td>1600</td>\n",
       "      <td>5</td>\n",
       "      <td>1070</td>\n",
       "    </tr>\n",
       "    <tr>\n",
       "      <th>328</th>\n",
       "      <td>12950</td>\n",
       "      <td>35</td>\n",
       "      <td>33258</td>\n",
       "      <td>Petrol</td>\n",
       "      <td>110</td>\n",
       "      <td>1</td>\n",
       "      <td>0</td>\n",
       "      <td>1600</td>\n",
       "      <td>5</td>\n",
       "      <td>1075</td>\n",
       "    </tr>\n",
       "    <tr>\n",
       "      <th>1334</th>\n",
       "      <td>6999</td>\n",
       "      <td>71</td>\n",
       "      <td>64000</td>\n",
       "      <td>Petrol</td>\n",
       "      <td>110</td>\n",
       "      <td>1</td>\n",
       "      <td>0</td>\n",
       "      <td>1600</td>\n",
       "      <td>5</td>\n",
       "      <td>1070</td>\n",
       "    </tr>\n",
       "    <tr>\n",
       "      <th>1065</th>\n",
       "      <td>6550</td>\n",
       "      <td>73</td>\n",
       "      <td>158492</td>\n",
       "      <td>Petrol</td>\n",
       "      <td>86</td>\n",
       "      <td>0</td>\n",
       "      <td>0</td>\n",
       "      <td>1300</td>\n",
       "      <td>3</td>\n",
       "      <td>1015</td>\n",
       "    </tr>\n",
       "    <tr>\n",
       "      <th>1155</th>\n",
       "      <td>7950</td>\n",
       "      <td>73</td>\n",
       "      <td>99971</td>\n",
       "      <td>Petrol</td>\n",
       "      <td>110</td>\n",
       "      <td>1</td>\n",
       "      <td>0</td>\n",
       "      <td>1600</td>\n",
       "      <td>3</td>\n",
       "      <td>1050</td>\n",
       "    </tr>\n",
       "    <tr>\n",
       "      <th>886</th>\n",
       "      <td>10500</td>\n",
       "      <td>59</td>\n",
       "      <td>61166</td>\n",
       "      <td>Petrol</td>\n",
       "      <td>110</td>\n",
       "      <td>1</td>\n",
       "      <td>0</td>\n",
       "      <td>1600</td>\n",
       "      <td>3</td>\n",
       "      <td>1050</td>\n",
       "    </tr>\n",
       "    <tr>\n",
       "      <th>385</th>\n",
       "      <td>9900</td>\n",
       "      <td>51</td>\n",
       "      <td>146736</td>\n",
       "      <td>Petrol</td>\n",
       "      <td>110</td>\n",
       "      <td>1</td>\n",
       "      <td>0</td>\n",
       "      <td>1600</td>\n",
       "      <td>5</td>\n",
       "      <td>1080</td>\n",
       "    </tr>\n",
       "  </tbody>\n",
       "</table>\n",
       "</div>"
      ],
      "text/plain": [
       "      Price  Age      KM FuelType   HP  MetColor  Automatic    CC  Doors  \\\n",
       "1119   7450   74  112307   Petrol  110         1          0  1600      5   \n",
       "328   12950   35   33258   Petrol  110         1          0  1600      5   \n",
       "1334   6999   71   64000   Petrol  110         1          0  1600      5   \n",
       "1065   6550   73  158492   Petrol   86         0          0  1300      3   \n",
       "1155   7950   73   99971   Petrol  110         1          0  1600      3   \n",
       "886   10500   59   61166   Petrol  110         1          0  1600      3   \n",
       "385    9900   51  146736   Petrol  110         1          0  1600      5   \n",
       "\n",
       "      Weight  \n",
       "1119    1070  \n",
       "328     1075  \n",
       "1334    1070  \n",
       "1065    1015  \n",
       "1155    1050  \n",
       "886     1050  \n",
       "385     1080  "
      ]
     },
     "execution_count": 60,
     "metadata": {},
     "output_type": "execute_result"
    }
   ],
   "source": [
    "dataset.sample(7)"
   ]
  },
  {
   "cell_type": "markdown",
   "id": "bd8fae66",
   "metadata": {},
   "source": [
    "## 2. Exploartory  data Analysis\n",
    "EDA is where we get the basic understanding of the data in hand which then helps us in the further process of Data Cleaning & Data Preparation."
   ]
  },
  {
   "cell_type": "code",
   "execution_count": 4,
   "id": "aff9d007",
   "metadata": {},
   "outputs": [
    {
     "name": "stdout",
     "output_type": "stream",
     "text": [
      "Price        1436\n",
      "Age          1436\n",
      "KM           1436\n",
      "FuelType     1436\n",
      "HP           1436\n",
      "MetColor     1436\n",
      "Automatic    1436\n",
      "CC           1436\n",
      "Doors        1436\n",
      "Weight       1436\n",
      "dtype: int64\n",
      "(1436, 10)\n"
     ]
    },
    {
     "data": {
      "text/html": [
       "<div>\n",
       "<style scoped>\n",
       "    .dataframe tbody tr th:only-of-type {\n",
       "        vertical-align: middle;\n",
       "    }\n",
       "\n",
       "    .dataframe tbody tr th {\n",
       "        vertical-align: top;\n",
       "    }\n",
       "\n",
       "    .dataframe thead th {\n",
       "        text-align: right;\n",
       "    }\n",
       "</style>\n",
       "<table border=\"1\" class=\"dataframe\">\n",
       "  <thead>\n",
       "    <tr style=\"text-align: right;\">\n",
       "      <th></th>\n",
       "      <th>Price</th>\n",
       "      <th>Age</th>\n",
       "      <th>KM</th>\n",
       "      <th>HP</th>\n",
       "      <th>MetColor</th>\n",
       "      <th>Automatic</th>\n",
       "      <th>CC</th>\n",
       "      <th>Doors</th>\n",
       "      <th>Weight</th>\n",
       "    </tr>\n",
       "  </thead>\n",
       "  <tbody>\n",
       "    <tr>\n",
       "      <th>count</th>\n",
       "      <td>1436.000000</td>\n",
       "      <td>1436.000000</td>\n",
       "      <td>1436.000000</td>\n",
       "      <td>1436.000000</td>\n",
       "      <td>1436.000000</td>\n",
       "      <td>1436.000000</td>\n",
       "      <td>1436.000000</td>\n",
       "      <td>1436.000000</td>\n",
       "      <td>1436.00000</td>\n",
       "    </tr>\n",
       "    <tr>\n",
       "      <th>mean</th>\n",
       "      <td>10730.824513</td>\n",
       "      <td>55.947075</td>\n",
       "      <td>68533.259749</td>\n",
       "      <td>101.502089</td>\n",
       "      <td>0.674791</td>\n",
       "      <td>0.055710</td>\n",
       "      <td>1566.827994</td>\n",
       "      <td>4.033426</td>\n",
       "      <td>1072.45961</td>\n",
       "    </tr>\n",
       "    <tr>\n",
       "      <th>std</th>\n",
       "      <td>3626.964585</td>\n",
       "      <td>18.599988</td>\n",
       "      <td>37506.448872</td>\n",
       "      <td>14.981080</td>\n",
       "      <td>0.468616</td>\n",
       "      <td>0.229441</td>\n",
       "      <td>187.182436</td>\n",
       "      <td>0.952677</td>\n",
       "      <td>52.64112</td>\n",
       "    </tr>\n",
       "    <tr>\n",
       "      <th>min</th>\n",
       "      <td>4350.000000</td>\n",
       "      <td>1.000000</td>\n",
       "      <td>1.000000</td>\n",
       "      <td>69.000000</td>\n",
       "      <td>0.000000</td>\n",
       "      <td>0.000000</td>\n",
       "      <td>1300.000000</td>\n",
       "      <td>2.000000</td>\n",
       "      <td>1000.00000</td>\n",
       "    </tr>\n",
       "    <tr>\n",
       "      <th>25%</th>\n",
       "      <td>8450.000000</td>\n",
       "      <td>44.000000</td>\n",
       "      <td>43000.000000</td>\n",
       "      <td>90.000000</td>\n",
       "      <td>0.000000</td>\n",
       "      <td>0.000000</td>\n",
       "      <td>1400.000000</td>\n",
       "      <td>3.000000</td>\n",
       "      <td>1040.00000</td>\n",
       "    </tr>\n",
       "    <tr>\n",
       "      <th>50%</th>\n",
       "      <td>9900.000000</td>\n",
       "      <td>61.000000</td>\n",
       "      <td>63389.500000</td>\n",
       "      <td>110.000000</td>\n",
       "      <td>1.000000</td>\n",
       "      <td>0.000000</td>\n",
       "      <td>1600.000000</td>\n",
       "      <td>4.000000</td>\n",
       "      <td>1070.00000</td>\n",
       "    </tr>\n",
       "    <tr>\n",
       "      <th>75%</th>\n",
       "      <td>11950.000000</td>\n",
       "      <td>70.000000</td>\n",
       "      <td>87020.750000</td>\n",
       "      <td>110.000000</td>\n",
       "      <td>1.000000</td>\n",
       "      <td>0.000000</td>\n",
       "      <td>1600.000000</td>\n",
       "      <td>5.000000</td>\n",
       "      <td>1085.00000</td>\n",
       "    </tr>\n",
       "    <tr>\n",
       "      <th>max</th>\n",
       "      <td>32500.000000</td>\n",
       "      <td>80.000000</td>\n",
       "      <td>243000.000000</td>\n",
       "      <td>192.000000</td>\n",
       "      <td>1.000000</td>\n",
       "      <td>1.000000</td>\n",
       "      <td>2000.000000</td>\n",
       "      <td>5.000000</td>\n",
       "      <td>1615.00000</td>\n",
       "    </tr>\n",
       "  </tbody>\n",
       "</table>\n",
       "</div>"
      ],
      "text/plain": [
       "              Price          Age             KM           HP     MetColor  \\\n",
       "count   1436.000000  1436.000000    1436.000000  1436.000000  1436.000000   \n",
       "mean   10730.824513    55.947075   68533.259749   101.502089     0.674791   \n",
       "std     3626.964585    18.599988   37506.448872    14.981080     0.468616   \n",
       "min     4350.000000     1.000000       1.000000    69.000000     0.000000   \n",
       "25%     8450.000000    44.000000   43000.000000    90.000000     0.000000   \n",
       "50%     9900.000000    61.000000   63389.500000   110.000000     1.000000   \n",
       "75%    11950.000000    70.000000   87020.750000   110.000000     1.000000   \n",
       "max    32500.000000    80.000000  243000.000000   192.000000     1.000000   \n",
       "\n",
       "         Automatic           CC        Doors      Weight  \n",
       "count  1436.000000  1436.000000  1436.000000  1436.00000  \n",
       "mean      0.055710  1566.827994     4.033426  1072.45961  \n",
       "std       0.229441   187.182436     0.952677    52.64112  \n",
       "min       0.000000  1300.000000     2.000000  1000.00000  \n",
       "25%       0.000000  1400.000000     3.000000  1040.00000  \n",
       "50%       0.000000  1600.000000     4.000000  1070.00000  \n",
       "75%       0.000000  1600.000000     5.000000  1085.00000  \n",
       "max       1.000000  2000.000000     5.000000  1615.00000  "
      ]
     },
     "execution_count": 4,
     "metadata": {},
     "output_type": "execute_result"
    }
   ],
   "source": [
    "print(dataset.count())  # Count the Number of Non-Missing Values for each Variable\n",
    "print(dataset.shape)\n",
    "dataset.describe()      #gives the summary of all the numerical variables present in our data frame"
   ]
  },
  {
   "cell_type": "code",
   "execution_count": 5,
   "id": "76f0fa94",
   "metadata": {},
   "outputs": [
    {
     "name": "stdout",
     "output_type": "stream",
     "text": [
      "<class 'pandas.core.frame.DataFrame'>\n",
      "RangeIndex: 1436 entries, 0 to 1435\n",
      "Data columns (total 10 columns):\n",
      " #   Column     Non-Null Count  Dtype \n",
      "---  ------     --------------  ----- \n",
      " 0   Price      1436 non-null   int64 \n",
      " 1   Age        1436 non-null   int64 \n",
      " 2   KM         1436 non-null   int64 \n",
      " 3   FuelType   1436 non-null   object\n",
      " 4   HP         1436 non-null   int64 \n",
      " 5   MetColor   1436 non-null   int64 \n",
      " 6   Automatic  1436 non-null   int64 \n",
      " 7   CC         1436 non-null   int64 \n",
      " 8   Doors      1436 non-null   int64 \n",
      " 9   Weight     1436 non-null   int64 \n",
      "dtypes: int64(9), object(1)\n",
      "memory usage: 112.3+ KB\n"
     ]
    }
   ],
   "source": [
    "dataset.info()"
   ]
  },
  {
   "cell_type": "code",
   "execution_count": 63,
   "id": "9e1ab1f9",
   "metadata": {},
   "outputs": [
    {
     "data": {
      "text/html": [
       "<div>\n",
       "<style scoped>\n",
       "    .dataframe tbody tr th:only-of-type {\n",
       "        vertical-align: middle;\n",
       "    }\n",
       "\n",
       "    .dataframe tbody tr th {\n",
       "        vertical-align: top;\n",
       "    }\n",
       "\n",
       "    .dataframe thead th {\n",
       "        text-align: right;\n",
       "    }\n",
       "</style>\n",
       "<table border=\"1\" class=\"dataframe\">\n",
       "  <thead>\n",
       "    <tr style=\"text-align: right;\">\n",
       "      <th></th>\n",
       "      <th>Price</th>\n",
       "      <th>Age</th>\n",
       "      <th>KM</th>\n",
       "      <th>FuelType</th>\n",
       "      <th>HP</th>\n",
       "      <th>MetColor</th>\n",
       "      <th>Automatic</th>\n",
       "      <th>CC</th>\n",
       "      <th>Doors</th>\n",
       "      <th>Weight</th>\n",
       "    </tr>\n",
       "  </thead>\n",
       "  <tbody>\n",
       "    <tr>\n",
       "      <th>0</th>\n",
       "      <td>13500</td>\n",
       "      <td>23</td>\n",
       "      <td>46986</td>\n",
       "      <td>Diesel</td>\n",
       "      <td>90</td>\n",
       "      <td>1</td>\n",
       "      <td>0</td>\n",
       "      <td>2000</td>\n",
       "      <td>3</td>\n",
       "      <td>1165</td>\n",
       "    </tr>\n",
       "    <tr>\n",
       "      <th>1</th>\n",
       "      <td>13750</td>\n",
       "      <td>23</td>\n",
       "      <td>72937</td>\n",
       "      <td>Diesel</td>\n",
       "      <td>90</td>\n",
       "      <td>1</td>\n",
       "      <td>0</td>\n",
       "      <td>2000</td>\n",
       "      <td>3</td>\n",
       "      <td>1165</td>\n",
       "    </tr>\n",
       "    <tr>\n",
       "      <th>2</th>\n",
       "      <td>13950</td>\n",
       "      <td>24</td>\n",
       "      <td>41711</td>\n",
       "      <td>Diesel</td>\n",
       "      <td>90</td>\n",
       "      <td>1</td>\n",
       "      <td>0</td>\n",
       "      <td>2000</td>\n",
       "      <td>3</td>\n",
       "      <td>1165</td>\n",
       "    </tr>\n",
       "    <tr>\n",
       "      <th>3</th>\n",
       "      <td>14950</td>\n",
       "      <td>26</td>\n",
       "      <td>48000</td>\n",
       "      <td>Diesel</td>\n",
       "      <td>90</td>\n",
       "      <td>0</td>\n",
       "      <td>0</td>\n",
       "      <td>2000</td>\n",
       "      <td>3</td>\n",
       "      <td>1165</td>\n",
       "    </tr>\n",
       "    <tr>\n",
       "      <th>4</th>\n",
       "      <td>13750</td>\n",
       "      <td>30</td>\n",
       "      <td>38500</td>\n",
       "      <td>Diesel</td>\n",
       "      <td>90</td>\n",
       "      <td>0</td>\n",
       "      <td>0</td>\n",
       "      <td>2000</td>\n",
       "      <td>3</td>\n",
       "      <td>1170</td>\n",
       "    </tr>\n",
       "    <tr>\n",
       "      <th>...</th>\n",
       "      <td>...</td>\n",
       "      <td>...</td>\n",
       "      <td>...</td>\n",
       "      <td>...</td>\n",
       "      <td>...</td>\n",
       "      <td>...</td>\n",
       "      <td>...</td>\n",
       "      <td>...</td>\n",
       "      <td>...</td>\n",
       "      <td>...</td>\n",
       "    </tr>\n",
       "    <tr>\n",
       "      <th>1431</th>\n",
       "      <td>7500</td>\n",
       "      <td>69</td>\n",
       "      <td>20544</td>\n",
       "      <td>Petrol</td>\n",
       "      <td>86</td>\n",
       "      <td>1</td>\n",
       "      <td>0</td>\n",
       "      <td>1300</td>\n",
       "      <td>3</td>\n",
       "      <td>1025</td>\n",
       "    </tr>\n",
       "    <tr>\n",
       "      <th>1432</th>\n",
       "      <td>10845</td>\n",
       "      <td>72</td>\n",
       "      <td>19000</td>\n",
       "      <td>Petrol</td>\n",
       "      <td>86</td>\n",
       "      <td>0</td>\n",
       "      <td>0</td>\n",
       "      <td>1300</td>\n",
       "      <td>3</td>\n",
       "      <td>1015</td>\n",
       "    </tr>\n",
       "    <tr>\n",
       "      <th>1433</th>\n",
       "      <td>8500</td>\n",
       "      <td>71</td>\n",
       "      <td>17016</td>\n",
       "      <td>Petrol</td>\n",
       "      <td>86</td>\n",
       "      <td>0</td>\n",
       "      <td>0</td>\n",
       "      <td>1300</td>\n",
       "      <td>3</td>\n",
       "      <td>1015</td>\n",
       "    </tr>\n",
       "    <tr>\n",
       "      <th>1434</th>\n",
       "      <td>7250</td>\n",
       "      <td>70</td>\n",
       "      <td>16916</td>\n",
       "      <td>Petrol</td>\n",
       "      <td>86</td>\n",
       "      <td>1</td>\n",
       "      <td>0</td>\n",
       "      <td>1300</td>\n",
       "      <td>3</td>\n",
       "      <td>1015</td>\n",
       "    </tr>\n",
       "    <tr>\n",
       "      <th>1435</th>\n",
       "      <td>6950</td>\n",
       "      <td>76</td>\n",
       "      <td>1</td>\n",
       "      <td>Petrol</td>\n",
       "      <td>110</td>\n",
       "      <td>0</td>\n",
       "      <td>0</td>\n",
       "      <td>1600</td>\n",
       "      <td>5</td>\n",
       "      <td>1114</td>\n",
       "    </tr>\n",
       "  </tbody>\n",
       "</table>\n",
       "<p>1435 rows × 10 columns</p>\n",
       "</div>"
      ],
      "text/plain": [
       "      Price  Age     KM FuelType   HP  MetColor  Automatic    CC  Doors  \\\n",
       "0     13500   23  46986   Diesel   90         1          0  2000      3   \n",
       "1     13750   23  72937   Diesel   90         1          0  2000      3   \n",
       "2     13950   24  41711   Diesel   90         1          0  2000      3   \n",
       "3     14950   26  48000   Diesel   90         0          0  2000      3   \n",
       "4     13750   30  38500   Diesel   90         0          0  2000      3   \n",
       "...     ...  ...    ...      ...  ...       ...        ...   ...    ...   \n",
       "1431   7500   69  20544   Petrol   86         1          0  1300      3   \n",
       "1432  10845   72  19000   Petrol   86         0          0  1300      3   \n",
       "1433   8500   71  17016   Petrol   86         0          0  1300      3   \n",
       "1434   7250   70  16916   Petrol   86         1          0  1300      3   \n",
       "1435   6950   76      1   Petrol  110         0          0  1600      5   \n",
       "\n",
       "      Weight  \n",
       "0       1165  \n",
       "1       1165  \n",
       "2       1165  \n",
       "3       1165  \n",
       "4       1170  \n",
       "...      ...  \n",
       "1431    1025  \n",
       "1432    1015  \n",
       "1433    1015  \n",
       "1434    1015  \n",
       "1435    1114  \n",
       "\n",
       "[1435 rows x 10 columns]"
      ]
     },
     "execution_count": 63,
     "metadata": {},
     "output_type": "execute_result"
    }
   ],
   "source": [
    "dataset.duplicated().sum()   #  check the duplicate in the dataset\n",
    "dataset.drop_duplicates()"
   ]
  },
  {
   "cell_type": "code",
   "execution_count": 65,
   "id": "3a521230",
   "metadata": {},
   "outputs": [
    {
     "data": {
      "text/plain": [
       "1"
      ]
     },
     "execution_count": 65,
     "metadata": {},
     "output_type": "execute_result"
    }
   ],
   "source": [
    "dataset.duplicated().sum()"
   ]
  },
  {
   "cell_type": "markdown",
   "id": "5ec412b6",
   "metadata": {},
   "source": [
    "## 3. Data Preprocessing and Visualization\n",
    "Ensure that the dataset is properly preprocessed, with missing values handled, datatype corrected and categorical variables encoded if necessary."
   ]
  },
  {
   "cell_type": "code",
   "execution_count": 7,
   "id": "78d96252",
   "metadata": {},
   "outputs": [
    {
     "data": {
      "text/plain": [
       "Price        0\n",
       "Age          0\n",
       "KM           0\n",
       "FuelType     0\n",
       "HP           0\n",
       "MetColor     0\n",
       "Automatic    0\n",
       "CC           0\n",
       "Doors        0\n",
       "Weight       0\n",
       "dtype: int64"
      ]
     },
     "execution_count": 7,
     "metadata": {},
     "output_type": "execute_result"
    }
   ],
   "source": [
    "dataset.isnull().sum()   #Detecting the Missing Values"
   ]
  },
  {
   "cell_type": "code",
   "execution_count": 66,
   "id": "a3f65b8a",
   "metadata": {},
   "outputs": [
    {
     "name": "stderr",
     "output_type": "stream",
     "text": [
      "C:\\Users\\hp\\AppData\\Local\\Temp\\ipykernel_14024\\1816652068.py:1: FutureWarning: The default value of numeric_only in DataFrame.corr is deprecated. In a future version, it will default to False. Select only valid columns or specify the value of numeric_only to silence this warning.\n",
      "  corr = dataset.corr()\n"
     ]
    },
    {
     "data": {
      "image/png": "[encoded data removed]",
      "text/plain": [
       "<Figure size 800x800 with 2 Axes>"
      ]
     },
     "metadata": {},
     "output_type": "display_data"
    }
   ],
   "source": [
    "corr = dataset.corr()\n",
    "#Plot figsize\n",
    "fig, ax = plt.subplots(figsize=(8, 8))\n",
    "#Generate Heat Map, allow annotations and place floats in map\n",
    "sns.heatmap(corr, cmap='magma', annot=True, fmt=\".2f\")\n",
    "#Apply xticks\n",
    "plt.xticks(range(len(corr.columns)), corr.columns);\n",
    "#Apply yticks\n",
    "plt.yticks(range(len(corr.columns)), corr.columns)\n",
    "#show plot\n",
    "plt.show()"
   ]
  },
  {
   "cell_type": "code",
   "execution_count": 67,
   "id": "72f9280f",
   "metadata": {},
   "outputs": [
    {
     "data": {
      "text/plain": [
       "Index(['Price', 'Age', 'KM', 'FuelType', 'HP', 'MetColor', 'Automatic', 'CC',\n",
       "       'Doors', 'Weight'],\n",
       "      dtype='object')"
      ]
     },
     "execution_count": 67,
     "metadata": {},
     "output_type": "execute_result"
    }
   ],
   "source": [
    "dataset.columns   # checking the column names"
   ]
  },
  {
   "cell_type": "markdown",
   "id": "875daad9",
   "metadata": {},
   "source": [
    "#### Encode  categorical variables"
   ]
  },
  {
   "cell_type": "code",
   "execution_count": 68,
   "id": "e31329ce",
   "metadata": {},
   "outputs": [],
   "source": [
    "from sklearn.preprocessing import LabelEncoder\n",
    "\n",
    "# Create an instance of LabelEncoder\n",
    "label_encoder = LabelEncoder()\n",
    "\n",
    "\n",
    "# Select the column to be label encoded\n",
    "categorical_column = 'FuelType'\n",
    "\n",
    "# Apply label encoding to the selected column\n",
    "dataset[categorical_column] = label_encoder.fit_transform(dataset[categorical_column])\n"
   ]
  },
  {
   "cell_type": "code",
   "execution_count": 70,
   "id": "4615d73c",
   "metadata": {},
   "outputs": [
    {
     "data": {
      "text/plain": [
       "(1436, 10)"
      ]
     },
     "execution_count": 70,
     "metadata": {},
     "output_type": "execute_result"
    }
   ],
   "source": [
    "dataset.head()\n",
    "dataset.shape"
   ]
  },
  {
   "cell_type": "markdown",
   "id": "82b71a07",
   "metadata": {},
   "source": [
    "## 4. Split the dataset into training and test sets\n",
    "#### 4a.Split the data into features (X) and target variable (y)"
   ]
  },
  {
   "cell_type": "code",
   "execution_count": 11,
   "id": "e5e820cb",
   "metadata": {},
   "outputs": [],
   "source": [
    "# Split the data into features (X) and target variable (y)\n",
    "X = dataset[['Age', 'KM', 'FuelType', 'HP', 'MetColor', 'Automatic', 'CC','Doors', 'Weight']]  # Specify the relevant features\n",
    "y = dataset['Price']  # Target variable"
   ]
  },
  {
   "cell_type": "code",
   "execution_count": 72,
   "id": "f1c2d18f",
   "metadata": {},
   "outputs": [],
   "source": [
    "X=dataset.drop('Price', axis=1)"
   ]
  },
  {
   "cell_type": "code",
   "execution_count": 73,
   "id": "f2483a51",
   "metadata": {},
   "outputs": [
    {
     "data": {
      "text/html": [
       "<div>\n",
       "<style scoped>\n",
       "    .dataframe tbody tr th:only-of-type {\n",
       "        vertical-align: middle;\n",
       "    }\n",
       "\n",
       "    .dataframe tbody tr th {\n",
       "        vertical-align: top;\n",
       "    }\n",
       "\n",
       "    .dataframe thead th {\n",
       "        text-align: right;\n",
       "    }\n",
       "</style>\n",
       "<table border=\"1\" class=\"dataframe\">\n",
       "  <thead>\n",
       "    <tr style=\"text-align: right;\">\n",
       "      <th></th>\n",
       "      <th>Age</th>\n",
       "      <th>KM</th>\n",
       "      <th>FuelType</th>\n",
       "      <th>HP</th>\n",
       "      <th>MetColor</th>\n",
       "      <th>Automatic</th>\n",
       "      <th>CC</th>\n",
       "      <th>Doors</th>\n",
       "      <th>Weight</th>\n",
       "    </tr>\n",
       "  </thead>\n",
       "  <tbody>\n",
       "    <tr>\n",
       "      <th>0</th>\n",
       "      <td>23</td>\n",
       "      <td>46986</td>\n",
       "      <td>1</td>\n",
       "      <td>90</td>\n",
       "      <td>1</td>\n",
       "      <td>0</td>\n",
       "      <td>2000</td>\n",
       "      <td>3</td>\n",
       "      <td>1165</td>\n",
       "    </tr>\n",
       "    <tr>\n",
       "      <th>1</th>\n",
       "      <td>23</td>\n",
       "      <td>72937</td>\n",
       "      <td>1</td>\n",
       "      <td>90</td>\n",
       "      <td>1</td>\n",
       "      <td>0</td>\n",
       "      <td>2000</td>\n",
       "      <td>3</td>\n",
       "      <td>1165</td>\n",
       "    </tr>\n",
       "    <tr>\n",
       "      <th>2</th>\n",
       "      <td>24</td>\n",
       "      <td>41711</td>\n",
       "      <td>1</td>\n",
       "      <td>90</td>\n",
       "      <td>1</td>\n",
       "      <td>0</td>\n",
       "      <td>2000</td>\n",
       "      <td>3</td>\n",
       "      <td>1165</td>\n",
       "    </tr>\n",
       "    <tr>\n",
       "      <th>3</th>\n",
       "      <td>26</td>\n",
       "      <td>48000</td>\n",
       "      <td>1</td>\n",
       "      <td>90</td>\n",
       "      <td>0</td>\n",
       "      <td>0</td>\n",
       "      <td>2000</td>\n",
       "      <td>3</td>\n",
       "      <td>1165</td>\n",
       "    </tr>\n",
       "    <tr>\n",
       "      <th>4</th>\n",
       "      <td>30</td>\n",
       "      <td>38500</td>\n",
       "      <td>1</td>\n",
       "      <td>90</td>\n",
       "      <td>0</td>\n",
       "      <td>0</td>\n",
       "      <td>2000</td>\n",
       "      <td>3</td>\n",
       "      <td>1170</td>\n",
       "    </tr>\n",
       "  </tbody>\n",
       "</table>\n",
       "</div>"
      ],
      "text/plain": [
       "   Age     KM  FuelType  HP  MetColor  Automatic    CC  Doors  Weight\n",
       "0   23  46986         1  90         1          0  2000      3    1165\n",
       "1   23  72937         1  90         1          0  2000      3    1165\n",
       "2   24  41711         1  90         1          0  2000      3    1165\n",
       "3   26  48000         1  90         0          0  2000      3    1165\n",
       "4   30  38500         1  90         0          0  2000      3    1170"
      ]
     },
     "execution_count": 73,
     "metadata": {},
     "output_type": "execute_result"
    }
   ],
   "source": [
    "X.head()"
   ]
  },
  {
   "cell_type": "code",
   "execution_count": 76,
   "id": "95ff1722",
   "metadata": {},
   "outputs": [
    {
     "data": {
      "text/plain": [
       "0    13500\n",
       "1    13750\n",
       "2    13950\n",
       "3    14950\n",
       "4    13750\n",
       "Name: Price, dtype: int64"
      ]
     },
     "execution_count": 76,
     "metadata": {},
     "output_type": "execute_result"
    }
   ],
   "source": [
    "y = dataset['Price']  # Target variable\n",
    "y.head()"
   ]
  },
  {
   "cell_type": "code",
   "execution_count": 75,
   "id": "53835a57",
   "metadata": {},
   "outputs": [
    {
     "name": "stdout",
     "output_type": "stream",
     "text": [
      "(1436, 9)\n",
      "(1436,)\n",
      "      Age     KM  FuelType   HP  MetColor  Automatic    CC  Doors  Weight\n",
      "0      23  46986         1   90         1          0  2000      3    1165\n",
      "1      23  72937         1   90         1          0  2000      3    1165\n",
      "2      24  41711         1   90         1          0  2000      3    1165\n",
      "3      26  48000         1   90         0          0  2000      3    1165\n",
      "4      30  38500         1   90         0          0  2000      3    1170\n",
      "...   ...    ...       ...  ...       ...        ...   ...    ...     ...\n",
      "1431   69  20544         2   86         1          0  1300      3    1025\n",
      "1432   72  19000         2   86         0          0  1300      3    1015\n",
      "1433   71  17016         2   86         0          0  1300      3    1015\n",
      "1434   70  16916         2   86         1          0  1300      3    1015\n",
      "1435   76      1         2  110         0          0  1600      5    1114\n",
      "\n",
      "[1436 rows x 9 columns]\n",
      "0       13500\n",
      "1       13750\n",
      "2       13950\n",
      "3       14950\n",
      "4       13750\n",
      "        ...  \n",
      "1431     7500\n",
      "1432    10845\n",
      "1433     8500\n",
      "1434     7250\n",
      "1435     6950\n",
      "Name: Price, Length: 1436, dtype: int64\n"
     ]
    }
   ],
   "source": [
    "print(X.shape)\n",
    "print(y.shape)\n",
    "print(X)\n",
    "print(y)\n"
   ]
  },
  {
   "cell_type": "markdown",
   "id": "444a72bb",
   "metadata": {},
   "source": [
    "#### 4b. Splitting the dataset into the Training set and Test set"
   ]
  },
  {
   "cell_type": "code",
   "execution_count": 13,
   "id": "646cc613",
   "metadata": {},
   "outputs": [],
   "source": [
    "# Splitting the dataset into the Training set and Test set\n",
    "from sklearn.model_selection import train_test_split\n",
    "X_train, X_test, y_train, y_test = train_test_split(X, y, test_size = 0.25, random_state = 42)"
   ]
  },
  {
   "cell_type": "code",
   "execution_count": 77,
   "id": "7ef5274c",
   "metadata": {},
   "outputs": [
    {
     "name": "stdout",
     "output_type": "stream",
     "text": [
      "Shape of X_train:  (1077, 9)\n",
      "Shape of X_test:  (359, 9)\n",
      "Shape of y_train:  (1077,)\n",
      "Shape of y_test (359,)\n"
     ]
    }
   ],
   "source": [
    "print(\"Shape of X_train: \",X_train.shape)\n",
    "print(\"Shape of X_test: \", X_test.shape)\n",
    "print(\"Shape of y_train: \",y_train.shape)\n",
    "print(\"Shape of y_test\",y_test.shape)"
   ]
  },
  {
   "cell_type": "markdown",
   "id": "2adbed06",
   "metadata": {},
   "source": [
    "## 5. Regression Models\n",
    "####  *Define/ trainthe model\n",
    "####  *Fit the model\n",
    "#### *Predict the model\n",
    "#### *Evaluate the model"
   ]
  },
  {
   "cell_type": "markdown",
   "id": "a1f0869e",
   "metadata": {},
   "source": [
    "### Simple Linear Model"
   ]
  },
  {
   "cell_type": "code",
   "execution_count": 15,
   "id": "cd0b6b68",
   "metadata": {},
   "outputs": [
    {
     "name": "stdout",
     "output_type": "stream",
     "text": [
      "[[23]\n",
      " [23]\n",
      " [24]\n",
      " [26]\n",
      " [30]]\n",
      "[13500 13750 13950 14950 13750]\n"
     ]
    }
   ],
   "source": [
    "X_simple_lreg = dataset[[\"Age\"]].values\n",
    "y_simple_lreg = dataset[\"Price\"].values\n",
    "\n",
    "print(X_simple_lreg[0:5])\n",
    "print(y_simple_lreg[0:5])"
   ]
  },
  {
   "cell_type": "code",
   "execution_count": 16,
   "id": "c7d0695f",
   "metadata": {},
   "outputs": [
    {
     "name": "stdout",
     "output_type": "stream",
     "text": [
      "Train Dataset :  (1077, 1) (1077,)\n",
      "Test Dataset :  (359, 1) (359,)\n"
     ]
    }
   ],
   "source": [
    "# Create train test datasets\n",
    "\n",
    "X_train_slreg, X_test_slreg, y_train_slreg, y_test_slreg = train_test_split(X_simple_lreg,y_simple_lreg, test_size = 0.25, random_state = 4)\n",
    "print('Train Dataset : ', X_train_slreg.shape, y_train_slreg.shape)\n",
    "print('Test Dataset : ', X_test_slreg.shape, y_test_slreg.shape)"
   ]
  },
  {
   "cell_type": "code",
   "execution_count": 17,
   "id": "5c6f8b6b",
   "metadata": {},
   "outputs": [
    {
     "name": "stdout",
     "output_type": "stream",
     "text": [
      "Intercept :  20137.410273159752\n",
      "Slope :  [-169.09157285]\n"
     ]
    }
   ],
   "source": [
    "simple_lreg = LinearRegression()    # Define the model\n",
    "simple_lreg.fit(X_train_slreg, y_train_slreg)   #  fit the model\n",
    "print('Intercept : ', simple_lreg.intercept_)  #  Get the intercept\n",
    "print('Slope : ', simple_lreg.coef_)           # Get the slope  or  coeffecient"
   ]
  },
  {
   "cell_type": "markdown",
   "id": "9a9554eb",
   "metadata": {},
   "source": [
    "As we can see, the slope is -169.09, which means that price of the vehicle is highly impacted by the age of the vehicle. However, it is negatively propotional to Price."
   ]
  },
  {
   "cell_type": "code",
   "execution_count": 18,
   "id": "64a3a227",
   "metadata": {},
   "outputs": [],
   "source": [
    "# Use the model to predict the test dataset.\n",
    "y_simplelreg_pred_test = simple_lreg.predict(X_test_slreg)"
   ]
  },
  {
   "cell_type": "code",
   "execution_count": 19,
   "id": "46a5a27a",
   "metadata": {},
   "outputs": [
    {
     "data": {
      "text/plain": [
       "array([ 7624.6338822 , 11175.55691207,  9484.64118356, 12021.01477632,\n",
       "        9484.64118356,  7286.4507365 , 13881.02207768,  8639.18331931,\n",
       "        6610.0844451 , 12697.38106773,  7455.54230935,  8639.18331931,\n",
       "        6610.0844451 , 11175.55691207, 13373.74735913,  9146.45803786,\n",
       "        8977.36646501,  7624.6338822 , 10668.28219352, 12190.10634917,\n",
       "        7793.72545505,  7117.35916365,  7286.4507365 ,  8977.36646501,\n",
       "        8470.09174646, 13035.56421343,  8470.09174646, 15571.93780619,\n",
       "       18615.5861175 ,  8639.18331931,  8639.18331931,  8131.90860076,\n",
       "       13542.83893198, 14895.57151479,  8639.18331931, 17262.8535347 ,\n",
       "        6610.0844451 , 10499.19062067, 12866.47264058, 14557.38836908,\n",
       "       17939.2198261 , 14557.38836908,  6779.17601795, 10161.00747497,\n",
       "       11344.64848492, 18108.31139895,  9484.64118356, 14219.20522338,\n",
       "       11006.46533922,  6948.2675908 , 11513.74005777, 16248.30409759,\n",
       "       10161.00747497,  8808.27489216,  9146.45803786, 13711.93050483,\n",
       "        9484.64118356,  6948.2675908 , 11851.92320347, 13035.56421343,\n",
       "        9991.91590211,  6610.0844451 ,  6610.0844451 ,  7286.4507365 ,\n",
       "       12866.47264058,  8639.18331931, 14726.47994194,  7286.4507365 ,\n",
       "       12697.38106773, 11513.74005777,  8470.09174646, 13881.02207768,\n",
       "        9146.45803786, 12866.47264058,  8639.18331931, 14388.29679623,\n",
       "        9146.45803786,  6610.0844451 , 11682.83163062,  8808.27489216,\n",
       "        7962.81702791, 12866.47264058,  8639.18331931, 13204.65578628,\n",
       "        6610.0844451 ,  8470.09174646,  7962.81702791, 16755.57881614,\n",
       "        8301.00017361,  9653.73275641, 16417.39567044,  9484.64118356,\n",
       "       11682.83163062, 15402.84623334, 14557.38836908,  7624.6338822 ,\n",
       "        9822.82432926, 11175.55691207, 17601.0366804 ,  9146.45803786,\n",
       "        9484.64118356, 13373.74735913, 13204.65578628, 16248.30409759,\n",
       "        8808.27489216,  9484.64118356,  7455.54230935,  8470.09174646,\n",
       "       17431.94510755,  8131.90860076,  9653.73275641, 13373.74735913,\n",
       "       17770.12825325, 11175.55691207,  6948.2675908 ,  7624.6338822 ,\n",
       "       16755.57881614,  8131.90860076, 17939.2198261 ,  8131.90860076,\n",
       "        9653.73275641,  8470.09174646,  9146.45803786,  6948.2675908 ,\n",
       "       18784.67769035,  8808.27489216,  8639.18331931, 13035.56421343,\n",
       "       11006.46533922, 13373.74735913,  8470.09174646,  8639.18331931,\n",
       "       12021.01477632, 10330.09904782,  9653.73275641, 15910.12095189,\n",
       "       16417.39567044, 15064.66308764,  9315.54961071,  9653.73275641,\n",
       "        6948.2675908 ,  8639.18331931,  6610.0844451 ,  6948.2675908 ,\n",
       "       11006.46533922,  9146.45803786, 14388.29679623, 16924.670389  ,\n",
       "       10499.19062067, 13204.65578628,  6779.17601795, 13204.65578628,\n",
       "       10161.00747497,  9315.54961071, 17939.2198261 ,  8639.18331931,\n",
       "       12528.28949488, 12697.38106773,  7117.35916365,  8808.27489216,\n",
       "        7793.72545505, 10668.28219352,  8639.18331931,  8977.36646501,\n",
       "       16417.39567044,  7286.4507365 , 11344.64848492,  8808.27489216,\n",
       "        8639.18331931, 15571.93780619,  9822.82432926,  9991.91590211,\n",
       "        9315.54961071,  7455.54230935,  7624.6338822 ,  8808.27489216,\n",
       "        9146.45803786, 12021.01477632, 14895.57151479,  7117.35916365,\n",
       "        6610.0844451 ,  9653.73275641, 13373.74735913, 11006.46533922,\n",
       "       19461.04398176, 16417.39567044,  7117.35916365,  7455.54230935,\n",
       "       11851.92320347, 11851.92320347,  9146.45803786,  9653.73275641,\n",
       "        8808.27489216,  6948.2675908 ,  7624.6338822 ,  6948.2675908 ,\n",
       "        6779.17601795, 10161.00747497,  9315.54961071,  8639.18331931,\n",
       "       12359.19792202,  8977.36646501,  7624.6338822 , 14726.47994194,\n",
       "        6779.17601795, 12697.38106773, 13373.74735913, 18784.67769035,\n",
       "        7455.54230935, 10499.19062067, 15064.66308764,  9315.54961071,\n",
       "        7793.72545505, 10161.00747497,  6948.2675908 , 18277.4029718 ,\n",
       "       18277.4029718 ,  7962.81702791, 13542.83893198,  7455.54230935,\n",
       "        7793.72545505,  8301.00017361,  6948.2675908 ,  7962.81702791,\n",
       "       10837.37376637,  9484.64118356,  9146.45803786, 12697.38106773,\n",
       "        7286.4507365 , 10837.37376637,  7117.35916365,  9822.82432926,\n",
       "       13035.56421343,  8808.27489216, 12866.47264058, 18784.67769035,\n",
       "       15741.02937904,  9822.82432926,  9991.91590211, 11513.74005777,\n",
       "       10161.00747497,  9315.54961071, 15402.84623334, 16924.670389  ,\n",
       "        8301.00017361,  7455.54230935,  7455.54230935,  6948.2675908 ,\n",
       "        8301.00017361, 16924.670389  , 11344.64848492,  7962.81702791,\n",
       "       10161.00747497, 18277.4029718 , 16924.670389  ,  8808.27489216,\n",
       "       11513.74005777, 17939.2198261 , 13542.83893198,  8639.18331931,\n",
       "        7793.72545505, 11851.92320347, 13711.93050483,  6948.2675908 ,\n",
       "        6610.0844451 , 13373.74735913, 11344.64848492,  8301.00017361,\n",
       "       18784.67769035, 10330.09904782,  8639.18331931, 13542.83893198,\n",
       "        7455.54230935, 10330.09904782,  8301.00017361,  9822.82432926,\n",
       "       14219.20522338, 17601.0366804 , 14557.38836908,  9991.91590211,\n",
       "        9822.82432926, 12021.01477632, 11006.46533922,  6610.0844451 ,\n",
       "       12021.01477632,  6779.17601795, 10499.19062067,  9991.91590211,\n",
       "       16417.39567044,  9146.45803786,  8131.90860076, 10161.00747497,\n",
       "        6610.0844451 , 13711.93050483,  7624.6338822 ,  8639.18331931,\n",
       "        9315.54961071, 13373.74735913,  9484.64118356, 10161.00747497,\n",
       "       15741.02937904, 10668.28219352,  7117.35916365, 17262.8535347 ,\n",
       "       14050.11365053, 11513.74005777, 11175.55691207, 18277.4029718 ,\n",
       "       13711.93050483, 13204.65578628,  9315.54961071,  8470.09174646,\n",
       "       11513.74005777,  9146.45803786, 12359.19792202, 11682.83163062,\n",
       "       14895.57151479,  9146.45803786,  9653.73275641, 14219.20522338,\n",
       "        8808.27489216,  9991.91590211,  9484.64118356, 15402.84623334,\n",
       "       16755.57881614, 10330.09904782,  8131.90860076, 10330.09904782,\n",
       "       11513.74005777,  6948.2675908 ,  8808.27489216, 13204.65578628,\n",
       "        7117.35916365,  9653.73275641, 15741.02937904,  7624.6338822 ,\n",
       "        6779.17601795, 10499.19062067, 11513.74005777, 12021.01477632,\n",
       "        8131.90860076,  9991.91590211, 11006.46533922, 10668.28219352,\n",
       "       12359.19792202,  8639.18331931, 12697.38106773,  8639.18331931,\n",
       "       10330.09904782,  8808.27489216, 14219.20522338,  9146.45803786,\n",
       "        6610.0844451 ,  9991.91590211, 14726.47994194, 18277.4029718 ,\n",
       "       12359.19792202, 13035.56421343, 10161.00747497])"
      ]
     },
     "execution_count": 19,
     "metadata": {},
     "output_type": "execute_result"
    }
   ],
   "source": [
    "y_simplelreg_pred_test"
   ]
  },
  {
   "cell_type": "code",
   "execution_count": 20,
   "id": "a285693c",
   "metadata": {},
   "outputs": [
    {
     "name": "stdout",
     "output_type": "stream",
     "text": [
      "r2_ score for test dataset for simple linear reg :  0.6734388905656996\n",
      "root mean squared error for simple linear reg :  3438902.331153578\n"
     ]
    }
   ],
   "source": [
    "# Calculate the eualuation metrics of the model.\n",
    "from sklearn.metrics import r2_score\n",
    "\n",
    "r2_score_slreg_test = r2_score(y_simplelreg_pred_test, y_test_slreg)\n",
    "#mse = mean_squared_error(y_test_slreg, y_simplelreg_pred_test)\n",
    "\n",
    "rmse_slreg = np.sqrt(mean_squared_error(y_simplelreg_pred_test, y_test_slreg)**2)\n",
    "\n",
    "print('r2_ score for test dataset for simple linear reg : ', r2_score_slreg_test)\n",
    "#print('Mean Squared Error for test dataset for simple linear reg:', mse)\n",
    "print('root mean squared error for simple linear reg : ', rmse_slreg)"
   ]
  },
  {
   "cell_type": "markdown",
   "id": "28d47633",
   "metadata": {},
   "source": [
    "Note :<br>r2_ score for test dataset for simple linear reg :  0.6734388905656996 <br>\n",
    "root mean squared error for simple linear reg :  3438902.331153578"
   ]
  },
  {
   "cell_type": "markdown",
   "id": "a1351951",
   "metadata": {},
   "source": [
    "## Multiple Regression"
   ]
  },
  {
   "cell_type": "markdown",
   "id": "fa6f2ef1",
   "metadata": {},
   "source": [
    "Let us include some more independent variables to predict the price of the vehicle"
   ]
  },
  {
   "cell_type": "code",
   "execution_count": 21,
   "id": "0a63d549",
   "metadata": {},
   "outputs": [
    {
     "name": "stdout",
     "output_type": "stream",
     "text": [
      "(1436, 9)\n",
      "(1436,)\n"
     ]
    }
   ],
   "source": [
    "# Separating the independent and dependent variable.\n",
    "#X_multi_lreg = dataset.drop('Price', axis = 1).values\n",
    "#y_multi_lreg = dataset[\"Price\"].values.reshape(-1,1)\n",
    "\n",
    "print(X.shape)\n",
    "print(y.shape)"
   ]
  },
  {
   "cell_type": "code",
   "execution_count": 22,
   "id": "2b1f9baa",
   "metadata": {},
   "outputs": [
    {
     "name": "stdout",
     "output_type": "stream",
     "text": [
      "      Age     KM  FuelType   HP  MetColor  Automatic    CC  Doors  Weight\n",
      "0      23  46986         1   90         1          0  2000      3    1165\n",
      "1      23  72937         1   90         1          0  2000      3    1165\n",
      "2      24  41711         1   90         1          0  2000      3    1165\n",
      "3      26  48000         1   90         0          0  2000      3    1165\n",
      "4      30  38500         1   90         0          0  2000      3    1170\n",
      "...   ...    ...       ...  ...       ...        ...   ...    ...     ...\n",
      "1431   69  20544         2   86         1          0  1300      3    1025\n",
      "1432   72  19000         2   86         0          0  1300      3    1015\n",
      "1433   71  17016         2   86         0          0  1300      3    1015\n",
      "1434   70  16916         2   86         1          0  1300      3    1015\n",
      "1435   76      1         2  110         0          0  1600      5    1114\n",
      "\n",
      "[1436 rows x 9 columns]\n"
     ]
    }
   ],
   "source": [
    "print(X)"
   ]
  },
  {
   "cell_type": "code",
   "execution_count": 23,
   "id": "cf714cbe",
   "metadata": {},
   "outputs": [
    {
     "name": "stdout",
     "output_type": "stream",
     "text": [
      "Train Dataset :  (1077, 9) (1077,)\n",
      "Test Dataset :  (359, 9) (359,)\n"
     ]
    }
   ],
   "source": [
    "# Create train test dataset\n",
    "from sklearn.model_selection import train_test_split\n",
    "X_train, X_test, y_train, y_test = train_test_split(X,y, test_size = 0.25, random_state = 4)\n",
    "print('Train Dataset : ', X_train.shape, y_train.shape)\n",
    "print('Test Dataset : ', X_test.shape, y_test.shape)"
   ]
  },
  {
   "cell_type": "code",
   "execution_count": 24,
   "id": "ed7f8147",
   "metadata": {},
   "outputs": [
    {
     "name": "stdout",
     "output_type": "stream",
     "text": [
      "Intercept :  -8700.63873589478\n",
      "Slope :  [-1.21150206e+02 -1.56763406e-02  4.99678954e+02  2.57677672e+01\n",
      "  6.48487092e+00  1.26597803e+02 -1.40569870e+00 -7.21133592e+01\n",
      "  2.44286373e+01]\n"
     ]
    }
   ],
   "source": [
    "multi_lreg = LinearRegression()    # define or call the model\n",
    "multi_lreg.fit(X_train, y_train)    # fit the model\n",
    "print('Intercept : ', multi_lreg.intercept_)\n",
    "print('Slope : ', multi_lreg.coef_)"
   ]
  },
  {
   "cell_type": "code",
   "execution_count": 25,
   "id": "dd481836",
   "metadata": {},
   "outputs": [],
   "source": [
    "# Use the model to predict the test dataset.\n",
    "y_mlreg_pred_test = multi_lreg.predict(X_test)\n",
    "\n",
    "# Use the model to predict the train dataset.\n",
    "#y_mlreg_pred_train = multi_lreg.predict(X_train)"
   ]
  },
  {
   "cell_type": "code",
   "execution_count": 26,
   "id": "b2316920",
   "metadata": {},
   "outputs": [
    {
     "data": {
      "text/plain": [
       "array([ 7968.66294939, 10110.0549992 ,  9548.70625588, 11743.38856138,\n",
       "        8854.8838757 ,  8136.98813312, 13869.29069044,  9456.43449857,\n",
       "        6984.12105546, 11212.02458859,  8362.97680352,  8429.53939499,\n",
       "        6668.16045172, 11112.34105144, 12723.99228048,  9520.7979027 ,\n",
       "        9481.20368325,  7942.937605  , 11589.04137139, 13000.28203247,\n",
       "        9086.04885806,  6707.92598946,  7713.50793798,  8448.97828113,\n",
       "        8459.87618457, 13719.7897499 ,  7298.91781988, 15529.97970069,\n",
       "       18557.62845506,  9372.93396102,  9404.95461461,  9063.66520793,\n",
       "       13224.95917164, 19337.74059119,  9167.91266859, 17886.67996105,\n",
       "        6836.69774839, 10713.27253611, 12897.30986934, 14306.83546427,\n",
       "       17569.00254754, 14062.03419914,  6586.71970481, 10217.54840205,\n",
       "       11922.8896875 , 18100.37061479, 10297.10039409, 13404.35354363,\n",
       "        9532.08899623,  8111.45821821, 12065.27620097, 18073.49537699,\n",
       "        9101.67039862, 10013.68972493,  9325.03176145, 13515.95875059,\n",
       "        9292.41763767,  6722.94450347, 10576.79979043, 12886.97253412,\n",
       "        8652.02859559,  7404.52229804,  7874.27536761,  8628.26897078,\n",
       "       13004.2657638 ,  9594.72040039, 14838.84406616,  8517.35200184,\n",
       "       11327.93901852, 11485.71181669,  7075.31556532, 13135.45315736,\n",
       "        8457.20667186, 13318.54195797,  8065.19647012, 12891.83970855,\n",
       "        7967.38373388,  6241.95481283, 12115.17057979,  7504.35358701,\n",
       "        8699.81217169, 11780.92535823,  7403.99706784, 11881.58554298,\n",
       "        8428.19028621,  7062.92612218,  8288.84101164, 17350.77392007,\n",
       "        8557.09331142, 10713.95902464, 15750.13735433, 10162.74090617,\n",
       "       11957.93996561, 15741.87092314, 14121.49408951,  7414.39457525,\n",
       "       10836.86451137, 12225.44254658, 17999.32136018,  8215.79321934,\n",
       "       10025.22804654, 13241.98023151, 12275.57592904, 16542.51203923,\n",
       "        9230.31896188, 11459.09639618,  8887.58186673,  7668.27050553,\n",
       "       19405.20004898,  8419.68674017,  9480.46788231, 13250.69763359,\n",
       "       17675.58901592, 11281.59383615,  7779.94376718,  7474.92092626,\n",
       "       18037.75416046,  7286.75296428, 17560.34882298,  8875.54912089,\n",
       "        9705.75868646,  9293.95801265,  8021.07520039,  7072.1689852 ,\n",
       "       19086.75052339,  9307.16951751,  9911.41897545, 13096.3244591 ,\n",
       "       10626.86755605, 14089.36637125,  7699.71164119,  9415.89203574,\n",
       "       11609.35744298, 11810.92581263,  9555.66509343, 19925.51943894,\n",
       "       20098.51819533, 15974.49784353,  9418.44538694, 10301.60294984,\n",
       "        8259.37524913,  7570.56089558,  7935.53384203,  7250.25734835,\n",
       "       10915.97576324,  9463.02568613, 13227.01054858, 19428.71886889,\n",
       "       11204.62956079, 13290.604794  ,  6234.80176754, 12316.32182014,\n",
       "       10417.59441686,  8215.65851984, 18246.04250035,  9285.48937545,\n",
       "       11260.08701374, 13142.99295331,  6344.99789445,  8063.18676148,\n",
       "        7600.53196911, 10549.66714949,  7826.80364982, 19833.01622137,\n",
       "       16450.05460886,  7122.64406463, 10742.20650646,  9391.18466747,\n",
       "        8657.86684495, 16221.67947084,  9442.55026044,  9936.4733034 ,\n",
       "        7680.33502715,  7017.3473579 ,  7895.52325778,  8226.32472879,\n",
       "       10204.07523111, 11290.68193224, 15982.5990656 ,  8329.75492211,\n",
       "        9103.41681942, 10312.7226094 , 12802.53070827, 10680.43846968,\n",
       "       27229.69891569, 16274.76419567,  6863.61289911,  7995.09102567,\n",
       "       10890.6878391 , 11483.27810108,  9518.11724846,  9013.90904008,\n",
       "        7625.30812218,  8166.47725481,  8034.18221977,  7715.3974137 ,\n",
       "        6639.25112212, 10494.53319441,  8838.36979698,  8962.7338637 ,\n",
       "       11133.18825746,  9753.22195502,  6717.6399823 , 14197.15155518,\n",
       "        8086.05418159, 12996.17024413, 12723.61303397, 19030.72328213,\n",
       "        8162.75709325,  9717.89568554, 16225.91742112, 10262.65234483,\n",
       "        7473.63891233,  8801.92089774,  9242.12337634, 22143.86235064,\n",
       "       18317.55160904,  9980.93193686, 13510.61621982,  7948.53108207,\n",
       "        8662.7310039 ,  8448.95548897,  7499.57069057,  8843.30825935,\n",
       "       10190.93125973,  9547.8283808 ,  8817.13157769,  9989.49180038,\n",
       "        8089.10768746, 10291.7890577 ,  8705.02789786, 10353.5489715 ,\n",
       "       12044.3181886 , 10134.18517054,  8786.82633359, 22691.4629417 ,\n",
       "       15136.37314847,  9873.32877101, 11433.88398709, 10898.70536361,\n",
       "       10448.95521304,  8390.24079088, 19761.5032257 , 17465.21992462,\n",
       "        9258.36194474,  8686.54137474,  7985.63651076,  5286.7944298 ,\n",
       "        9436.34229871, 16376.65507116,  9716.94285231,  6815.39940014,\n",
       "        9954.3973355 , 18239.29779108, 16828.53883767,  9491.96786111,\n",
       "       10433.95798752, 17292.33532731, 13877.78469904,  8476.27397086,\n",
       "        7218.74945746, 11169.91995172, 13124.11671864,  5401.65964188,\n",
       "        7936.2596183 , 13810.97750651, 11570.19138361,  8585.50183885,\n",
       "       18464.74776349,  9958.29405651,  9161.80453652, 12165.89817495,\n",
       "        7167.22885026,  9506.3698877 ,  9140.67130838,  9484.07688665,\n",
       "       12805.27566011, 17029.8106184 , 13820.86890607,  9031.96557684,\n",
       "        9124.13728828, 11612.23880773, 10354.07791491,  7730.62153493,\n",
       "       11756.30208866,  8383.37361494, 10445.27495151, 11068.48588111,\n",
       "       17367.25721203,  9057.32199174,  9442.38306089,  8418.84744935,\n",
       "        7469.83679221, 13666.68000044,  6554.9526449 ,  8327.74848137,\n",
       "        8290.60197011, 13142.71078363,  9324.47428114,  8922.32845987,\n",
       "       15829.46395727, 11319.47297643,  8373.63472461, 17503.75912361,\n",
       "       13037.79937403, 11190.84819782,  8503.49590572, 18162.77975308,\n",
       "       12470.96358171, 13735.65633584,  7533.06633066,  9506.64923074,\n",
       "       10600.66259414,  8660.77963073, 12684.85376369, 10713.52069713,\n",
       "       18779.67611538,  8445.85700128, 11303.18391308, 13069.59579546,\n",
       "        9905.08599512,  9045.71372753,  9899.20473584, 16256.27128125,\n",
       "       16897.71508268,  9045.06001856,  9075.72891568,  9821.43106236,\n",
       "       11899.19418951,  7719.44190957,  7839.08680458, 13432.87893715,\n",
       "        8177.3280438 , 10383.08856821, 15661.38736757,  8031.40432901,\n",
       "        9537.61300475, 10462.45108672, 10556.14783896, 12854.51470386,\n",
       "        7151.68512137, 10381.98929933, 10343.72308599, 10987.38514486,\n",
       "       11822.57114713,  8834.98736426, 13510.36089878,  8602.14350122,\n",
       "        8868.28207822,  6568.16419565, 12639.12135074, 10251.5875126 ,\n",
       "        6639.09091271, 10473.49256881, 15217.98761663, 19453.7988175 ,\n",
       "       11955.75906196, 12812.46610081,  9616.21036694])"
      ]
     },
     "execution_count": 26,
     "metadata": {},
     "output_type": "execute_result"
    }
   ],
   "source": [
    "y_mlreg_pred_test"
   ]
  },
  {
   "cell_type": "code",
   "execution_count": 46,
   "id": "f5d784f2",
   "metadata": {},
   "outputs": [
    {
     "name": "stdout",
     "output_type": "stream",
     "text": [
      "r2_ score for test dataset for multi linear reg :  0.8462551519042479\n",
      "root mean squared error for multi linear reg :  1896729.0040467714\n"
     ]
    }
   ],
   "source": [
    "# Calculate the eualuation metrics of the model.\n",
    "from sklearn.metrics import r2_score\n",
    "\n",
    "r2_score_mlreg = r2_score(y_mlreg_pred_test, y_test)\n",
    "rmse_mlreg = np.sqrt(mean_squared_error(y_mlreg_pred_test, y_test)**2)\n",
    "\n",
    "print('r2_ score for test dataset for multi linear reg : ', r2_score_mlreg)\n",
    "print('root mean squared error for multi linear reg : ', rmse_mlreg)"
   ]
  },
  {
   "cell_type": "code",
   "execution_count": null,
   "id": "2ac622b6",
   "metadata": {},
   "outputs": [],
   "source": []
  },
  {
   "cell_type": "markdown",
   "id": "0b4bb442",
   "metadata": {},
   "source": [
    "## Decision Tree Regressor"
   ]
  },
  {
   "cell_type": "code",
   "execution_count": 47,
   "id": "0ceb0422",
   "metadata": {},
   "outputs": [
    {
     "data": {
      "text/plain": [
       "(1077, 9)"
      ]
     },
     "execution_count": 47,
     "metadata": {},
     "output_type": "execute_result"
    }
   ],
   "source": [
    "X_train.shape"
   ]
  },
  {
   "cell_type": "code",
   "execution_count": 48,
   "id": "f176cef5",
   "metadata": {},
   "outputs": [
    {
     "data": {
      "text/plain": [
       "(359,)"
      ]
     },
     "execution_count": 48,
     "metadata": {},
     "output_type": "execute_result"
    }
   ],
   "source": [
    "y_test.shape"
   ]
  },
  {
   "cell_type": "code",
   "execution_count": 49,
   "id": "2efe1c60",
   "metadata": {},
   "outputs": [],
   "source": [
    "from sklearn.tree import DecisionTreeRegressor\n",
    "## training the model\n",
    "\n",
    "DecisionTreeReg = DecisionTreeRegressor(random_state=0) ##  define  or training the model\n",
    "\n",
    "DecisionTreeReg.fit(X_train, y_train)     #  fit the model\n",
    "\n",
    "# Use the model to predict the test dataset.\n",
    "y_DecisionTreeReg_pred_test = DecisionTreeReg.predict(X_test)\n",
    "\n",
    "# Use the model to predict the train dataset.\n",
    "#y_DecisionTreeReg_pred_train = DecisionTreeReg.predict(X_train)\n",
    "\n"
   ]
  },
  {
   "cell_type": "code",
   "execution_count": 50,
   "id": "000277e5",
   "metadata": {},
   "outputs": [
    {
     "data": {
      "text/plain": [
       "array([ 7200.,  9950.,  9500., 11750.,  8500.,  6750., 10750.,  8750.,\n",
       "        6490., 11950.,  8900.,  8950.,  9500., 10500., 12950.,  9850.,\n",
       "        9950.,  7250., 12500., 18950.,  8750.,  6950.,  7200.,  8450.,\n",
       "        8500., 13500.,  8750., 13950., 18950.,  9750., 10950.,  6950.,\n",
       "       13500., 22750.,  7750., 17450.,  9250.,  8950., 13950., 12950.,\n",
       "       18500., 12900.,  7300.,  8900., 10950., 19500., 10250., 13450.,\n",
       "       10500.,  9800., 12950., 20500.,  8950., 11500.,  8450., 13250.,\n",
       "        9950.,  7500.,  8695., 11990.,  9900.,  8950.,  8950.,  6750.,\n",
       "        9950.,  9950., 13750.,  8950., 10950., 10250.,  6900., 11450.,\n",
       "        7750., 13250.,  9250., 13500.,  8450.,  9500., 13750.,  7250.,\n",
       "        6990., 13250.,  9250., 11750.,  8750.,  6900.,  7750., 18950.,\n",
       "        8450.,  8950., 14950., 10495., 10450., 14900., 13995.,  8450.,\n",
       "       11950., 18950., 20950.,  7950., 10500., 12950., 11950., 15950.,\n",
       "        8950., 10500.,  8750.,  7950., 19950.,  8500.,  8900., 11895.,\n",
       "       18800., 10250.,  7950.,  7750., 19250.,  7950., 18500.,  7500.,\n",
       "        9450.,  8750.,  8450.,  8500., 21950.,  8900., 11950., 13500.,\n",
       "        7900., 12950.,  7950.,  8750., 10800., 10500.,  9250., 19600.,\n",
       "       21950., 18750.,  8250.,  9950.,  8950.,  8800.,  7500.,  5950.,\n",
       "       10500., 10950., 12750., 22250., 10950., 11950.,  7950.,  9900.,\n",
       "        9950.,  7450., 19950.,  9950., 12200., 12750.,  6950.,  9500.,\n",
       "        7250., 11500.,  8950.,  9950., 15750.,  8250., 10995.,  9750.,\n",
       "        8500., 16950.,  7950.,  9950.,  8250.,  7500.,  7500.,  9500.,\n",
       "       11500., 10950., 18950.,  8500.,  6950.,  9900., 11950., 10995.,\n",
       "       31275., 15950.,  6500.,  8450.,  9400., 11500.,  9850., 10500.,\n",
       "        8250.,  8800.,  7750.,  8900.,  7300.,  8750.,  9995.,  9895.,\n",
       "       11750.,  9950.,  6750., 16950.,  8800., 13950.,  9500., 21950.,\n",
       "        8700.,  9995., 17250.,  8750.,  7250.,  9500.,  8150., 24950.,\n",
       "       17450.,  7995., 12950.,  8700.,  8900.,  7450.,  6900.,  7500.,\n",
       "       12000.,  9500.,  9750.,  4750.,  7250.,  9750.,  8500.,  9950.,\n",
       "        9900., 10950.,  7750., 24950., 15950., 10500., 10500., 11895.,\n",
       "        8950.,  8900., 21500., 19450.,  8950.,  6750.,  7795.,  6550.,\n",
       "        6950., 16450.,  8950.,  7350.,  8450., 19500., 15950.,  9750.,\n",
       "        8500., 16450., 13995., 10495.,  7750., 10900., 12450.,  6750.,\n",
       "        8950., 13995., 11900.,  8950., 18950.,  7350.,  8750., 11950.,\n",
       "        7950.,  8750.,  6950.,  7950., 12750., 17450., 11650.,  8200.,\n",
       "       10450., 10250.,  9930.,  7250., 10950.,  8950.,  8950., 10750.,\n",
       "       16950., 10500.,  8950.,  6900.,  7145., 12500.,  6495.,  8000.,\n",
       "        7950., 10950.,  9450.,  8250., 15950., 11450.,  8950., 19450.,\n",
       "       13995.,  9950.,  6400., 18450., 11500., 11990.,  9900.,  9200.,\n",
       "        8950.,  8750., 11250.,  7900., 17950.,  7750., 10750., 11500.,\n",
       "       10995.,  8200.,  9450., 18950., 16450.,  8250.,  8950.,  9950.,\n",
       "       11900.,  8900.,  7450., 11950.,  8950.,  8950., 15500.,  6900.,\n",
       "        7450.,  8950.,  9950., 10750.,  6950.,  8750.,  9400., 10950.,\n",
       "       10900.,  9895., 10950.,  8250.,  8950.,  6950., 12450., 10950.,\n",
       "        7300.,  8900., 12950., 21750., 11700., 11950.,  9950.])"
      ]
     },
     "execution_count": 50,
     "metadata": {},
     "output_type": "execute_result"
    }
   ],
   "source": [
    "y_DecisionTreeReg_pred_test"
   ]
  },
  {
   "cell_type": "code",
   "execution_count": 51,
   "id": "f4a1240a",
   "metadata": {},
   "outputs": [
    {
     "name": "stdout",
     "output_type": "stream",
     "text": [
      "r2_ score for test dataset for multi linear reg :  0.8540339009633384\n",
      "root mean squared error for multi linear reg :  2236549.8662952646\n"
     ]
    }
   ],
   "source": [
    "# Calculate the eualuation metrics of the model.\n",
    "from sklearn.metrics import r2_score\n",
    "\n",
    "r2_score_DecisionTreeReg_test = r2_score(y_DecisionTreeReg_pred_test, y_test)\n",
    "rmse_DecisionTreeReg = np.sqrt(mean_squared_error(y_DecisionTreeReg_pred_test, y_test)**2)\n",
    "\n",
    "print('r2_ score for test dataset for multi linear reg : ', r2_score_DecisionTreeReg_test)\n",
    "print('root mean squared error for multi linear reg : ', rmse_DecisionTreeReg)"
   ]
  },
  {
   "cell_type": "code",
   "execution_count": 55,
   "id": "64e15163",
   "metadata": {},
   "outputs": [],
   "source": [
    "\n",
    "Models = [('Simple Linear Regression',  r2_score_slreg_test, rmse_slreg),\n",
    "          ('Multiplt Linear Regression',  r2_score_mlreg, rmse_mlreg),\n",
    "          ('Decision Tree Regression', r2_score_DecisionTreeReg_test, rmse_DecisionTreeReg)]\n",
    "          "
   ]
  },
  {
   "cell_type": "code",
   "execution_count": 56,
   "id": "41ff7dab",
   "metadata": {},
   "outputs": [
    {
     "data": {
      "text/html": [
       "<div>\n",
       "<style scoped>\n",
       "    .dataframe tbody tr th:only-of-type {\n",
       "        vertical-align: middle;\n",
       "    }\n",
       "\n",
       "    .dataframe tbody tr th {\n",
       "        vertical-align: top;\n",
       "    }\n",
       "\n",
       "    .dataframe thead th {\n",
       "        text-align: right;\n",
       "    }\n",
       "</style>\n",
       "<table border=\"1\" class=\"dataframe\">\n",
       "  <thead>\n",
       "    <tr style=\"text-align: right;\">\n",
       "      <th></th>\n",
       "      <th>Models</th>\n",
       "      <th>r2_score Testing</th>\n",
       "      <th>RMSE</th>\n",
       "    </tr>\n",
       "  </thead>\n",
       "  <tbody>\n",
       "    <tr>\n",
       "      <th>0</th>\n",
       "      <td>Simple Linear Regression</td>\n",
       "      <td>0.673439</td>\n",
       "      <td>3.438902e+06</td>\n",
       "    </tr>\n",
       "    <tr>\n",
       "      <th>1</th>\n",
       "      <td>Multiplt Linear Regression</td>\n",
       "      <td>0.846255</td>\n",
       "      <td>1.896729e+06</td>\n",
       "    </tr>\n",
       "    <tr>\n",
       "      <th>2</th>\n",
       "      <td>Decision Tree Regression</td>\n",
       "      <td>0.854034</td>\n",
       "      <td>2.236550e+06</td>\n",
       "    </tr>\n",
       "  </tbody>\n",
       "</table>\n",
       "</div>"
      ],
      "text/plain": [
       "                       Models  r2_score Testing          RMSE\n",
       "0    Simple Linear Regression          0.673439  3.438902e+06\n",
       "1  Multiplt Linear Regression          0.846255  1.896729e+06\n",
       "2    Decision Tree Regression          0.854034  2.236550e+06"
      ]
     },
     "execution_count": 56,
     "metadata": {},
     "output_type": "execute_result"
    }
   ],
   "source": [
    "predict = pd.DataFrame(data = Models, columns = ['Models', 'r2_score Testing', 'RMSE'])\n",
    "predict"
   ]
  },
  {
   "cell_type": "code",
   "execution_count": null,
   "id": "0369ad66",
   "metadata": {},
   "outputs": [],
   "source": []
  },
  {
   "cell_type": "code",
   "execution_count": null,
   "id": "2b6e33ef",
   "metadata": {},
   "outputs": [],
   "source": []
  },
  {
   "cell_type": "code",
   "execution_count": null,
   "id": "e1c8418c",
   "metadata": {},
   "outputs": [],
   "source": []
  },
  {
   "cell_type": "markdown",
   "id": "2015b35a",
   "metadata": {},
   "source": [
    "## Option 2"
   ]
  },
  {
   "cell_type": "code",
   "execution_count": 57,
   "id": "fa93e696",
   "metadata": {},
   "outputs": [
    {
     "name": "stdout",
     "output_type": "stream",
     "text": [
      "Coefficients: [-1.21150206e+02 -1.56763406e-02  4.99678954e+02  2.57677672e+01\n",
      "  6.48487092e+00  1.26597803e+02 -1.40569870e+00 -7.21133592e+01\n",
      "  2.44286373e+01]\n",
      "Mean Squared Error: 1896729.0040467714\n"
     ]
    }
   ],
   "source": [
    "from sklearn.linear_model import LinearRegression\n",
    "\n",
    "\n",
    "# Create a linear regression model and fit it on the training data\n",
    "model_lin = LinearRegression()\n",
    "model_lin.fit(X_train, y_train)\n",
    "\n",
    "# Predict the prices using the trained model\n",
    "y_pred = model_lin.predict(X_test)\n",
    "\n",
    "# Evaluate the model's performance (e.g., using mean squared error)\n",
    "mse = mean_squared_error(y_test, y_pred)\n",
    "\n",
    "# Print the model coefficients and the mean squared error\n",
    "print('Coefficients:', model_lin.coef_)\n",
    "print('Mean Squared Error:', mse)\n"
   ]
  },
  {
   "cell_type": "code",
   "execution_count": null,
   "id": "7cd784b8",
   "metadata": {},
   "outputs": [],
   "source": []
  }
 ],
 "metadata": {
  "kernelspec": {
   "display_name": "Python 3 (ipykernel)",
   "language": "python",
   "name": "python3"
  },
  "language_info": {
   "codemirror_mode": {
    "name": "ipython",
    "version": 3
   },
   "file_extension": ".py",
   "mimetype": "text/x-python",
   "name": "python",
   "nbconvert_exporter": "python",
   "pygments_lexer": "ipython3",
   "version": "3.10.9"
  }
 },
 "nbformat": 4,
 "nbformat_minor": 5
}
