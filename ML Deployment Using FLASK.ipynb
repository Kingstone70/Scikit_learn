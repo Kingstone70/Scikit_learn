{
 "cells": [
  {
   "cell_type": "code",
   "execution_count": 1,
   "metadata": {},
   "outputs": [
    {
     "data": {
      "text/html": [
       "<div>\n",
       "<style scoped>\n",
       "    .dataframe tbody tr th:only-of-type {\n",
       "        vertical-align: middle;\n",
       "    }\n",
       "\n",
       "    .dataframe tbody tr th {\n",
       "        vertical-align: top;\n",
       "    }\n",
       "\n",
       "    .dataframe thead th {\n",
       "        text-align: right;\n",
       "    }\n",
       "</style>\n",
       "<table border=\"1\" class=\"dataframe\">\n",
       "  <thead>\n",
       "    <tr style=\"text-align: right;\">\n",
       "      <th></th>\n",
       "      <th>age</th>\n",
       "      <th>workclass</th>\n",
       "      <th>fnlwgt</th>\n",
       "      <th>education</th>\n",
       "      <th>educational-num</th>\n",
       "      <th>marital-status</th>\n",
       "      <th>occupation</th>\n",
       "      <th>relationship</th>\n",
       "      <th>race</th>\n",
       "      <th>gender</th>\n",
       "      <th>capital-gain</th>\n",
       "      <th>capital-loss</th>\n",
       "      <th>hours-per-week</th>\n",
       "      <th>native-country</th>\n",
       "      <th>income</th>\n",
       "    </tr>\n",
       "  </thead>\n",
       "  <tbody>\n",
       "    <tr>\n",
       "      <th>0</th>\n",
       "      <td>39</td>\n",
       "      <td>State-gov</td>\n",
       "      <td>77516</td>\n",
       "      <td>Bachelors</td>\n",
       "      <td>13</td>\n",
       "      <td>Never-married</td>\n",
       "      <td>Adm-clerical</td>\n",
       "      <td>Not-in-family</td>\n",
       "      <td>White</td>\n",
       "      <td>Male</td>\n",
       "      <td>2174</td>\n",
       "      <td>0</td>\n",
       "      <td>40</td>\n",
       "      <td>United-States</td>\n",
       "      <td>&lt;=50K</td>\n",
       "    </tr>\n",
       "    <tr>\n",
       "      <th>1</th>\n",
       "      <td>50</td>\n",
       "      <td>Self-emp-not-inc</td>\n",
       "      <td>83311</td>\n",
       "      <td>Bachelors</td>\n",
       "      <td>13</td>\n",
       "      <td>Married-civ-spouse</td>\n",
       "      <td>Exec-managerial</td>\n",
       "      <td>Husband</td>\n",
       "      <td>White</td>\n",
       "      <td>Male</td>\n",
       "      <td>0</td>\n",
       "      <td>0</td>\n",
       "      <td>13</td>\n",
       "      <td>United-States</td>\n",
       "      <td>&lt;=50K</td>\n",
       "    </tr>\n",
       "    <tr>\n",
       "      <th>2</th>\n",
       "      <td>38</td>\n",
       "      <td>Private</td>\n",
       "      <td>215646</td>\n",
       "      <td>HS-grad</td>\n",
       "      <td>9</td>\n",
       "      <td>Divorced</td>\n",
       "      <td>Handlers-cleaners</td>\n",
       "      <td>Not-in-family</td>\n",
       "      <td>White</td>\n",
       "      <td>Male</td>\n",
       "      <td>0</td>\n",
       "      <td>0</td>\n",
       "      <td>40</td>\n",
       "      <td>United-States</td>\n",
       "      <td>&lt;=50K</td>\n",
       "    </tr>\n",
       "    <tr>\n",
       "      <th>3</th>\n",
       "      <td>53</td>\n",
       "      <td>Private</td>\n",
       "      <td>234721</td>\n",
       "      <td>11th</td>\n",
       "      <td>7</td>\n",
       "      <td>Married-civ-spouse</td>\n",
       "      <td>Handlers-cleaners</td>\n",
       "      <td>Husband</td>\n",
       "      <td>Black</td>\n",
       "      <td>Male</td>\n",
       "      <td>0</td>\n",
       "      <td>0</td>\n",
       "      <td>40</td>\n",
       "      <td>United-States</td>\n",
       "      <td>&lt;=50K</td>\n",
       "    </tr>\n",
       "    <tr>\n",
       "      <th>4</th>\n",
       "      <td>28</td>\n",
       "      <td>Private</td>\n",
       "      <td>338409</td>\n",
       "      <td>Bachelors</td>\n",
       "      <td>13</td>\n",
       "      <td>Married-civ-spouse</td>\n",
       "      <td>Prof-specialty</td>\n",
       "      <td>Wife</td>\n",
       "      <td>Black</td>\n",
       "      <td>Female</td>\n",
       "      <td>0</td>\n",
       "      <td>0</td>\n",
       "      <td>40</td>\n",
       "      <td>Cuba</td>\n",
       "      <td>&lt;=50K</td>\n",
       "    </tr>\n",
       "  </tbody>\n",
       "</table>\n",
       "</div>"
      ],
      "text/plain": [
       "   age          workclass  fnlwgt   education  educational-num  \\\n",
       "0   39          State-gov   77516   Bachelors               13   \n",
       "1   50   Self-emp-not-inc   83311   Bachelors               13   \n",
       "2   38            Private  215646     HS-grad                9   \n",
       "3   53            Private  234721        11th                7   \n",
       "4   28            Private  338409   Bachelors               13   \n",
       "\n",
       "        marital-status          occupation    relationship    race   gender  \\\n",
       "0        Never-married        Adm-clerical   Not-in-family   White     Male   \n",
       "1   Married-civ-spouse     Exec-managerial         Husband   White     Male   \n",
       "2             Divorced   Handlers-cleaners   Not-in-family   White     Male   \n",
       "3   Married-civ-spouse   Handlers-cleaners         Husband   Black     Male   \n",
       "4   Married-civ-spouse      Prof-specialty            Wife   Black   Female   \n",
       "\n",
       "   capital-gain  capital-loss  hours-per-week  native-country  income  \n",
       "0          2174             0              40   United-States   <=50K  \n",
       "1             0             0              13   United-States   <=50K  \n",
       "2             0             0              40   United-States   <=50K  \n",
       "3             0             0              40   United-States   <=50K  \n",
       "4             0             0              40            Cuba   <=50K  "
      ]
     },
     "execution_count": 1,
     "metadata": {},
     "output_type": "execute_result"
    }
   ],
   "source": [
    "# importing the dataset\n",
    "import pandas\n",
    "import numpy\n",
    "from sklearn import preprocessing\n",
    "import flask\n",
    "from flask import Flask\n",
    "\n",
    "df = pandas.read_csv('adult.csv')\n",
    "df.head()\n"
   ]
  },
  {
   "cell_type": "markdown",
   "metadata": {},
   "source": [
    "### EDA"
   ]
  },
  {
   "cell_type": "code",
   "execution_count": 2,
   "metadata": {},
   "outputs": [
    {
     "data": {
      "text/plain": [
       "(32561, 15)"
      ]
     },
     "execution_count": 2,
     "metadata": {},
     "output_type": "execute_result"
    }
   ],
   "source": [
    "df.shape"
   ]
  },
  {
   "cell_type": "code",
   "execution_count": 3,
   "metadata": {},
   "outputs": [
    {
     "name": "stdout",
     "output_type": "stream",
     "text": [
      "<class 'pandas.core.frame.DataFrame'>\n",
      "RangeIndex: 32561 entries, 0 to 32560\n",
      "Data columns (total 15 columns):\n",
      " #   Column           Non-Null Count  Dtype \n",
      "---  ------           --------------  ----- \n",
      " 0   age              32561 non-null  int64 \n",
      " 1   workclass        32561 non-null  object\n",
      " 2   fnlwgt           32561 non-null  int64 \n",
      " 3   education        32561 non-null  object\n",
      " 4   educational-num  32561 non-null  int64 \n",
      " 5   marital-status   32561 non-null  object\n",
      " 6   occupation       32561 non-null  object\n",
      " 7   relationship     32561 non-null  object\n",
      " 8   race             32561 non-null  object\n",
      " 9   gender           32561 non-null  object\n",
      " 10  capital-gain     32561 non-null  int64 \n",
      " 11  capital-loss     32561 non-null  int64 \n",
      " 12  hours-per-week   32561 non-null  int64 \n",
      " 13  native-country   32561 non-null  object\n",
      " 14  income           32561 non-null  object\n",
      "dtypes: int64(6), object(9)\n",
      "memory usage: 3.7+ MB\n"
     ]
    }
   ],
   "source": [
    "df.info()"
   ]
  },
  {
   "cell_type": "markdown",
   "metadata": {},
   "source": [
    "### Preprocessing the dataset \n",
    "We replaced the missing values with the mode value in that column"
   ]
  },
  {
   "cell_type": "code",
   "execution_count": 2,
   "metadata": {},
   "outputs": [],
   "source": [
    "df = df.drop(['fnlwgt', 'educational-num'], axis = 1)\n",
    "\n",
    "col_names = df.columns\n",
    "\n",
    "for c in col_names:\n",
    "    df = df.replace(\"?\", numpy.NaN)\n",
    "df = df.apply(lambda x:x.fillna(x.value_counts().index[0]))\n"
   ]
  },
  {
   "cell_type": "markdown",
   "metadata": {},
   "source": [
    "Discretization – It is a common way to make categorical data more tidy and meaningful. We have applied discretization on column marital_status where they are narrowed down to only to values married or not married. Later, we will apply label encoder in the remaining data columns. Also, there are two redundant columns {‘education’, ‘educational-num’}, therefore, we have removed one of them."
   ]
  },
  {
   "cell_type": "code",
   "execution_count": 4,
   "metadata": {},
   "outputs": [
    {
     "name": "stdout",
     "output_type": "stream",
     "text": [
      "{'workclass': {' ?': 0, ' Federal-gov': 1, ' Local-gov': 2, ' Never-worked': 3, ' Private': 4, ' Self-emp-inc': 5, ' Self-emp-not-inc': 6, ' State-gov': 7, ' Without-pay': 8}, 'race': {' Amer-Indian-Eskimo': 0, ' Asian-Pac-Islander': 1, ' Black': 2, ' Other': 3, ' White': 4}, 'education': {' 10th': 0, ' 11th': 1, ' 12th': 2, ' 1st-4th': 3, ' 5th-6th': 4, ' 7th-8th': 5, ' 9th': 6, ' Assoc-acdm': 7, ' Assoc-voc': 8, ' Bachelors': 9, ' Doctorate': 10, ' HS-grad': 11, ' Masters': 12, ' Preschool': 13, ' Prof-school': 14, ' Some-college': 15}, 'marital-status': {' Divorced': 0, ' Married-AF-spouse': 1, ' Married-civ-spouse': 2, ' Married-spouse-absent': 3, ' Never-married': 4, ' Separated': 5, ' Widowed': 6}, 'occupation': {' ?': 0, ' Adm-clerical': 1, ' Armed-Forces': 2, ' Craft-repair': 3, ' Exec-managerial': 4, ' Farming-fishing': 5, ' Handlers-cleaners': 6, ' Machine-op-inspct': 7, ' Other-service': 8, ' Priv-house-serv': 9, ' Prof-specialty': 10, ' Protective-serv': 11, ' Sales': 12, ' Tech-support': 13, ' Transport-moving': 14}, 'relationship': {' Husband': 0, ' Not-in-family': 1, ' Other-relative': 2, ' Own-child': 3, ' Unmarried': 4, ' Wife': 5}, 'gender': {' Female': 0, ' Male': 1}, 'native-country': {' ?': 0, ' Cambodia': 1, ' Canada': 2, ' China': 3, ' Columbia': 4, ' Cuba': 5, ' Dominican-Republic': 6, ' Ecuador': 7, ' El-Salvador': 8, ' England': 9, ' France': 10, ' Germany': 11, ' Greece': 12, ' Guatemala': 13, ' Haiti': 14, ' Holand-Netherlands': 15, ' Honduras': 16, ' Hong': 17, ' Hungary': 18, ' India': 19, ' Iran': 20, ' Ireland': 21, ' Italy': 22, ' Jamaica': 23, ' Japan': 24, ' Laos': 25, ' Mexico': 26, ' Nicaragua': 27, ' Outlying-US(Guam-USVI-etc)': 28, ' Peru': 29, ' Philippines': 30, ' Poland': 31, ' Portugal': 32, ' Puerto-Rico': 33, ' Scotland': 34, ' South': 35, ' Taiwan': 36, ' Thailand': 37, ' Trinadad&Tobago': 38, ' United-States': 39, ' Vietnam': 40, ' Yugoslavia': 41}, 'income': {' <=50K': 0, ' >50K': 1}}\n"
     ]
    }
   ],
   "source": [
    "df.replace(['Divorced', 'Married-AF-spouse','Married-civ-spouse', 'Married-spouse-absent','Never-married', 'Separated', 'Widowed'],\n",
    "           ['divorced', 'married', 'married', 'married','not married', 'not married', 'not married'], inplace = True)\n",
    "\n",
    "category_col =['workclass', 'race', 'education', 'marital-status', 'occupation',\n",
    "            'relationship', 'gender', 'native-country', 'income']\n",
    "labelEncoder = preprocessing.LabelEncoder()\n",
    "\n",
    "mapping_dict ={}\n",
    "for col in category_col:\n",
    "   df[col] = labelEncoder.fit_transform(df[col])\n",
    "\n",
    "   le_name_mapping = dict(zip(labelEncoder.classes_,\n",
    "   labelEncoder.transform(labelEncoder.classes_)))\n",
    "\n",
    "   mapping_dict[col]= le_name_mapping\n",
    "print(mapping_dict)\n"
   ]
  },
  {
   "cell_type": "markdown",
   "metadata": {},
   "source": [
    "## Fitting the model –\n",
    "After pre-processing the data, split the dataset into two halves, one for training and one for testing. This is achieved using train_test_split() function of sklearn."
   ]
  },
  {
   "cell_type": "code",
   "execution_count": 5,
   "metadata": {},
   "outputs": [],
   "source": [
    "from sklearn.model_selection import train_test_split\n",
    "from sklearn.tree import DecisionTreeClassifier\n",
    "from sklearn.metrics import accuracy_score\n",
    "\n",
    "X = df.values[:, 0:12]\n",
    "Y = df.values[:, 12]\n"
   ]
  },
  {
   "cell_type": "code",
   "execution_count": 6,
   "metadata": {},
   "outputs": [
    {
     "name": "stdout",
     "output_type": "stream",
     "text": [
      "Desicion Tree using Gini Index\n",
      "Accuracy is  46.831814924762\n"
     ]
    }
   ],
   "source": [
    "X_train, X_test, y_train, y_test = train_test_split(X, Y, test_size = 0.3, random_state = 100)\n",
    "\n",
    "dt_clf_gini = DecisionTreeClassifier(criterion = \"gini\",\n",
    "                                     random_state = 100,\n",
    "                                     max_depth = 5,\n",
    "                                     min_samples_leaf = 5)\n",
    "\n",
    "dt_clf_gini.fit(X_train, y_train)\n",
    "y_pred_gini = dt_clf_gini.predict(X_test)\n",
    "\n",
    "print (\"Desicion Tree using Gini Index\\nAccuracy is \",\n",
    "accuracy_score(y_test, y_pred_gini)*100 )\n"
   ]
  },
  {
   "cell_type": "markdown",
   "metadata": {},
   "source": [
    "##### <html>\n",
    "<body>\n",
    "\t<h3>Income Prediction Form</h3>\n",
    "\n",
    "<div>\n",
    "<form action=\"/result\" method=\"POST\">\n",
    "\t<label for=\"age\">Age</label>\n",
    "\t<input type=\"text\" id=\"age\" name=\"age\">\n",
    "\t<br>\n",
    "\t<label for=\"w_class\">Working Class</label>\n",
    "\t<select id=\"w_class\" name=\"w_class\">\n",
    "\t<option value=\"0\">Federal-gov</option>\n",
    "\t<option value=\"1\">Local-gov</option>\n",
    "\t<option value=\"2\">Never-worked</option>\n",
    "\t<option value=\"3\">Private</option>\n",
    "\t<option value=\"4\">Self-emp-inc</option>\n",
    "\t<option value=\"5\">Self-emp-not-inc</option>\n",
    "\t<option value=\"6\">State-gov</option>\n",
    "\t<option value=\"7\">Without-pay</option>\n",
    "\t</select>\n",
    "\t<br>\n",
    "\t<label for=\"edu\">Education</label>\n",
    "\t<select id=\"edu\" name=\"edu\">\n",
    "\t<option value=\"0\">10th</option>\n",
    "\t<option value=\"1\">11th</option>\n",
    "\t<option value=\"2\">12th</option>\n",
    "\t<option value=\"3\">1st-4th</option>\n",
    "\t<option value=\"4\">5th-6th</option>\n",
    "\t<option value=\"5\">7th-8th</option>\n",
    "\t<option value=\"6\">9th</option>\n",
    "\t<option value=\"7\">Assoc-acdm</option>\n",
    "\t<option value=\"8\">Assoc-voc</option>\n",
    "\t<option value=\"9\">Bachelors</option>\n",
    "\t<option value=\"10\">Doctorate</option>\n",
    "\t<option value=\"11\">HS-grad</option>\n",
    "\t<option value=\"12\">Masters</option>\n",
    "\t<option value=\"13\">Preschool</option>\n",
    "\t<option value=\"14\">Prof-school</option>\n",
    "\t<option value=\"15\">16 - Some-college</option>\n",
    "\t</select>\n",
    "\t<br>\n",
    "\t<label for=\"martial_stat\">Marital Status</label>\n",
    "\t<select id=\"martial_stat\" name=\"martial_stat\">\n",
    "\t<option value=\"0\">divorced</option>\n",
    "\t<option value=\"1\">married</option>\n",
    "\t<option value=\"2\">not married</option>\n",
    "\t</select>\n",
    "\t<br>\n",
    "\t<label for=\"occup\">Occupation</label>\n",
    "\t<select id=\"occup\" name=\"occup\">\n",
    "\t<option value=\"0\">Adm-clerical</option>\n",
    "\t<option value=\"1\">Armed-Forces</option>\n",
    "\t<option value=\"2\">Craft-repair</option>\n",
    "\t<option value=\"3\">Exec-managerial</option>\n",
    "\t<option value=\"4\">Farming-fishing</option>\n",
    "\t<option value=\"5\">Handlers-cleaners</option>\n",
    "\t<option value=\"6\">Machine-op-inspct</option>\n",
    "\t<option value=\"7\">Other-service</option>\n",
    "\t<option value=\"8\">Priv-house-serv</option>\n",
    "\t<option value=\"9\">Prof-specialty</option>\n",
    "\t<option value=\"10\">Protective-serv</option>\n",
    "\t<option value=\"11\">Sales</option>\n",
    "\t<option value=\"12\">Tech-support</option>\n",
    "\t<option value=\"13\">Transport-moving</option>\n",
    "\t</select>\n",
    "\t<br>\n",
    "\t<label for=\"relation\">Relationship</label>\n",
    "\t<select id=\"relation\" name=\"relation\">\n",
    "\t<option value=\"0\">Husband</option>\n",
    "\t<option value=\"1\">Not-in-family</option>\n",
    "\t<option value=\"2\">Other-relative</option>\n",
    "\t<option value=\"3\">Own-child</option>\n",
    "\t<option value=\"4\">Unmarried</option>\n",
    "\t<option value=\"5\">Wife</option>\n",
    "\t</select>\n",
    "\t<br>\n",
    "\t<label for=\"race\">Race</label>\n",
    "\t<select id=\"race\" name=\"race\">\n",
    "\t<option value=\"0\">Amer Indian Eskimo</option>\n",
    "\t<option value=\"1\">Asian Pac Islander</option>\n",
    "\t<option value=\"2\">Black</option>\n",
    "\t<option value=\"3\">Other</option>\n",
    "\t<option value=\"4\">White</option>\n",
    "\t</select>\n",
    "\t<br>\n",
    "\t<label for=\"gender\">Gender</label>\n",
    "\t<select id=\"gender\" name=\"gender\">\n",
    "\t<option value=\"0\">Female</option>\n",
    "\t<option value=\"1\">Male</option>\n",
    "\t</select>\n",
    "\t<br>\n",
    "\t<label for=\"c_gain\">Capital Gain </label>\n",
    "\t<input type=\"text\" id=\"c_gain\" name=\"c_gain\">btw:[0-99999]\n",
    "\t<br>\n",
    "\t<label for=\"c_loss\">Capital Loss </label>\n",
    "\t<input type=\"text\" id=\"c_loss\" name=\"c_loss\">btw:[0-4356]\n",
    "\t<br>\n",
    "\t<label for=\"hours_per_week\">Hours per Week </label>\n",
    "\t<input type=\"text\" id=\"hours_per_week\" name=\"hours_per_week\">btw:[1-99]\n",
    "\t<br>\n",
    "\t<label for=\"native-country\">Native Country</label>\n",
    "\t<select id=\"native-country\" name=\"native-country\">\n",
    "\t<option value=\"0\">Cambodia</option>\n",
    "\t<option value=\"1\">Canada</option>\n",
    "\t<option value=\"2\">China</option>\n",
    "\t<option value=\"3\">Columbia</option>\n",
    "\t<option value=\"4\">Cuba</option>\n",
    "\t<option value=\"5\">Dominican Republic</option>\n",
    "\t<option value=\"6\">Ecuador</option>\n",
    "\t<option value=\"7\">El Salvadorr</option>\n",
    "\t<option value=\"8\">England</option>\n",
    "\t<option value=\"9\">France</option>\n",
    "\t<option value=\"10\">Germany</option>\n",
    "\t<option value=\"11\">Greece</option>\n",
    "\t<option value=\"12\">Guatemala</option>\n",
    "\t<option value=\"13\">Haiti</option>\n",
    "\t<option value=\"14\">Netherlands</option>\n",
    "\t<option value=\"15\">Honduras</option>\n",
    "\t<option value=\"16\">HongKong</option>\n",
    "\t<option value=\"17\">Hungary</option>\n",
    "\t<option value=\"18\">India</option>\n",
    "\t<option value=\"19\">Iran</option>\n",
    "\t<option value=\"20\">Ireland</option>\n",
    "\t<option value=\"21\">Italy</option>\n",
    "\t<option value=\"22\">Jamaica</option>\n",
    "\t<option value=\"23\">Japan</option>\n",
    "\t<option value=\"24\">Laos</option>\n",
    "\t<option value=\"25\">Mexico</option>\n",
    "\t<option value=\"26\">Nicaragua</option>\n",
    "\t<option value=\"27\">Outlying-US(Guam-USVI-etc)</option>\n",
    "\t<option value=\"28\">Peru</option>\n",
    "\t<option value=\"29\">Philippines</option>\n",
    "\t<option value=\"30\">Poland</option>\n",
    "\t<option value=\"11\">Portugal</option>\n",
    "\t<option value=\"32\">Puerto-Rico</option>\n",
    "\t<option value=\"33\">Scotland</option>\n",
    "\t<option value=\"34\">South</option>\n",
    "\t<option value=\"35\">Taiwan</option>\n",
    "\t<option value=\"36\">Thailand</option>\n",
    "\t<option value=\"37\">Trinadad&Tobago</option>\n",
    "\t<option value=\"38\">United States</option>\n",
    "\t<option value=\"39\">Vietnam</option>\n",
    "\t<option value=\"40\">Yugoslavia</option>\n",
    "\t</select>\n",
    "\t<br>\n",
    "\t<input type=\"submit\" value=\"Submit\">\n",
    "</form>\n",
    "</div>\n",
    "</body>\n",
    "</html>\n"
   ]
  },
  {
   "cell_type": "markdown",
   "metadata": {},
   "source": [
    "#### Below is simple code HTML form\n",
    "https://www.tutorialrepublic.com/html-tutorial/html-forms.php"
   ]
  },
  {
   "cell_type": "markdown",
   "metadata": {},
   "source": [
    "## Simple HTML form\n",
    "<!DOCTYPE html>\n",
    "<html lang=\"en\">\n",
    "<head>\n",
    "    <title>Simple HTML Form</title>\n",
    "</head>\n",
    "<body>\n",
    "    <form action=\"/examples/actions/confirmation.php\" method=\"post\">\n",
    "        <label>Username: <input type=\"text\" name=\"username\"></label>\n",
    "        <label>Password: <input type=\"password\" name=\"userpass\"></label>\n",
    "        <input type=\"submit\" value=\"Submit\">\n",
    "    </form>\n",
    "</body>\n",
    "</html>"
   ]
  },
  {
   "cell_type": "code",
   "execution_count": 7,
   "metadata": {},
   "outputs": [
    {
     "ename": "SyntaxError",
     "evalue": "invalid syntax (<ipython-input-7-54dfa3e03fd8>, line 7)",
     "output_type": "error",
     "traceback": [
      "\u001b[1;36m  File \u001b[1;32m\"<ipython-input-7-54dfa3e03fd8>\"\u001b[1;36m, line \u001b[1;32m7\u001b[0m\n\u001b[1;33m    render_template('index.html')\u001b[0m\n\u001b[1;37m                  ^\u001b[0m\n\u001b[1;31mSyntaxError\u001b[0m\u001b[1;31m:\u001b[0m invalid syntax\n"
     ]
    }
   ],
   "source": [
    "from flask import Flask\n",
    "#from flask.ext.sqlalchemy import SQLAlchemy\n",
    "import os\n",
    "\n",
    "app = Flask(__name__)\n",
    "@app.route('/')\n",
    "render_template('index.html')"
   ]
  },
  {
   "cell_type": "code",
   "execution_count": 16,
   "metadata": {},
   "outputs": [
    {
     "ename": "NameError",
     "evalue": "name 'app' is not defined",
     "output_type": "error",
     "traceback": [
      "\u001b[1;31m---------------------------------------------------------------------------\u001b[0m",
      "\u001b[1;31mNameError\u001b[0m                                 Traceback (most recent call last)",
      "\u001b[1;32m<ipython-input-16-98df1007e5ff>\u001b[0m in \u001b[0;36m<module>\u001b[1;34m\u001b[0m\n\u001b[0;32m      6\u001b[0m     \u001b[1;32mreturn\u001b[0m \u001b[0mresult\u001b[0m\u001b[1;33m[\u001b[0m\u001b[1;36m0\u001b[0m\u001b[1;33m]\u001b[0m\u001b[1;33m\u001b[0m\u001b[1;33m\u001b[0m\u001b[0m\n\u001b[0;32m      7\u001b[0m \u001b[1;33m\u001b[0m\u001b[0m\n\u001b[1;32m----> 8\u001b[1;33m \u001b[1;33m@\u001b[0m\u001b[0mapp\u001b[0m\u001b[1;33m.\u001b[0m\u001b[0mroute\u001b[0m\u001b[1;33m(\u001b[0m\u001b[1;34m'/result'\u001b[0m\u001b[1;33m,\u001b[0m \u001b[0mmethods\u001b[0m \u001b[1;33m=\u001b[0m \u001b[1;33m[\u001b[0m\u001b[1;34m'POST'\u001b[0m\u001b[1;33m]\u001b[0m\u001b[1;33m)\u001b[0m\u001b[1;33m\u001b[0m\u001b[1;33m\u001b[0m\u001b[0m\n\u001b[0m\u001b[0;32m      9\u001b[0m \u001b[1;32mdef\u001b[0m \u001b[0mresult\u001b[0m\u001b[1;33m(\u001b[0m\u001b[1;33m)\u001b[0m\u001b[1;33m:\u001b[0m\u001b[1;33m\u001b[0m\u001b[1;33m\u001b[0m\u001b[0m\n\u001b[0;32m     10\u001b[0m     \u001b[1;32mif\u001b[0m \u001b[0mrequest\u001b[0m\u001b[1;33m.\u001b[0m\u001b[0mmethod\u001b[0m \u001b[1;33m==\u001b[0m \u001b[1;34m'POST'\u001b[0m\u001b[1;33m:\u001b[0m\u001b[1;33m\u001b[0m\u001b[1;33m\u001b[0m\u001b[0m\n",
      "\u001b[1;31mNameError\u001b[0m: name 'app' is not defined"
     ]
    }
   ],
   "source": [
    "# prediction function\n",
    "def ValuePredictor(to_predict_list):\n",
    "    to_predict = np.array(to_predict_list).reshape(1, 12)\n",
    "    loaded_model = pickle.load(open(\"model.pkl\", \"rb\"))\n",
    "    result = loaded_model.predict(to_predict)\n",
    "    return result[0]\n",
    "\n",
    "@app.route('/result', methods = ['POST'])\n",
    "def result():\n",
    "    if request.method == 'POST':\n",
    "        to_predict_list = request.form.to_dict()\n",
    "        to_predict_list = list(to_predict_list.values())\n",
    "        to_predict_list = list(map(int, to_predict_list))\n",
    "        result = ValuePredictor(to_predict_list)\n",
    "    if int(result)== 1:\n",
    "        prediction ='Income more than 50K'\n",
    "    else:\n",
    "        prediction ='Income less that 50K'\n",
    "    return render_template(\"result.html\", prediction = prediction)\n"
   ]
  },
  {
   "cell_type": "code",
   "execution_count": null,
   "metadata": {},
   "outputs": [],
   "source": []
  }
 ],
 "metadata": {
  "kernelspec": {
   "display_name": "Python 3",
   "language": "python",
   "name": "python3"
  },
  "language_info": {
   "codemirror_mode": {
    "name": "ipython",
    "version": 3
   },
   "file_extension": ".py",
   "mimetype": "text/x-python",
   "name": "python",
   "nbconvert_exporter": "python",
   "pygments_lexer": "ipython3",
   "version": "3.7.6"
  }
 },
 "nbformat": 4,
 "nbformat_minor": 4
}
